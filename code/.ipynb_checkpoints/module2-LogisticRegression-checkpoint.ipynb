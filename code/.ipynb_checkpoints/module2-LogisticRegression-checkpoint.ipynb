{
 "cells": [
  {
   "cell_type": "markdown",
   "metadata": {},
   "source": [
    "# Module 2 - Supervised Learning - Logistic Regression"
   ]
  },
  {
   "cell_type": "markdown",
   "metadata": {},
   "source": [
    "---\n",
    "\n",
    "## Imports"
   ]
  },
  {
   "cell_type": "code",
   "execution_count": 1,
   "metadata": {},
   "outputs": [],
   "source": [
    "import matplotlib.pyplot as plt\n",
    "import numpy as np\n",
    "import os\n",
    "import pandas as pd\n",
    "import seaborn as sb\n",
    "import time\n",
    "from sklearn.model_selection import train_test_split\n",
    "from sklearn.metrics import classification_report\n",
    "from sklearn.metrics import confusion_matrix\n",
    "# import tensorflow as tf\n",
    "# from tensorflow import keras\n",
    "from sklearn.linear_model import LogisticRegression\n",
    "\n",
    "\n",
    "%matplotlib inline\n",
    "# print(tf.__version__)"
   ]
  },
  {
   "cell_type": "markdown",
   "metadata": {},
   "source": [
    "---\n",
    "\n",
    "## Load Data"
   ]
  },
  {
   "cell_type": "code",
   "execution_count": 2,
   "metadata": {},
   "outputs": [
    {
     "name": "stdout",
     "output_type": "stream",
     "text": [
      "x_shape:  (83620, 49)\n",
      "y_shape:  (83620, 1)\n"
     ]
    }
   ],
   "source": [
    "state = 'GA'\n",
    "\n",
    "current_dir = os.getcwd()\n",
    "# print(current_dir)\n",
    "load_dir = current_dir + '\\\\module1_data\\\\' + state\n",
    "#print(load_dir)\n",
    "\n",
    "# uncomment 1\n",
    "# data = 'Xstate_f194.npy' #original\n",
    "# data = 'Xforest_f102.npy' #random forest feature importance\n",
    "data = 'Xpca_f194_c049_v9713.npy' #principle components\n",
    "\n",
    "X = np.load(load_dir + '\\\\' + data)\n",
    "print(\"x_shape: \", X.shape)\n",
    "# print(\"==X==\")\n",
    "# print(X[:10])\n",
    "\n",
    "y = np.load(load_dir + '\\\\ystate.npy')\n",
    "y = y - 1\n",
    "print(\"y_shape: \", y.shape)\n",
    "# print(\"==y==\")\n",
    "# print(y[:10])"
   ]
  },
  {
   "cell_type": "code",
   "execution_count": 3,
   "metadata": {},
   "outputs": [
    {
     "name": "stdout",
     "output_type": "stream",
     "text": [
      "X train: (58533, 49)\n",
      "y train: (58533, 1)\n",
      "X test:  (25086, 49)\n",
      "y test:  (25086, 1)\n"
     ]
    }
   ],
   "source": [
    "#DO NOT CHANGE\n",
    "\n",
    "#split into training and test sets\n",
    "\n",
    "X_train, X_test, y_train, y_test = train_test_split(X, y, test_size=0.30, train_size=0.70, random_state=0, shuffle=True)\n",
    "\n",
    "print('X train:', X_train.shape)\n",
    "print('y train:', y_train.shape)\n",
    "print('X test: ', X_test.shape)\n",
    "print('y test: ', y_test.shape)"
   ]
  },
  {
   "cell_type": "markdown",
   "metadata": {},
   "source": [
    "---\n",
    "\n",
    "## Logistic Regression"
   ]
  },
  {
   "cell_type": "markdown",
   "metadata": {},
   "source": [
    "### Setup"
   ]
  },
  {
   "cell_type": "code",
   "execution_count": 4,
   "metadata": {},
   "outputs": [
    {
     "name": "stderr",
     "output_type": "stream",
     "text": [
      "C:\\Users\\Roshni Ghosh\\Anaconda3\\lib\\site-packages\\sklearn\\linear_model\\logistic.py:432: FutureWarning: Default solver will be changed to 'lbfgs' in 0.22. Specify a solver to silence this warning.\n",
      "  FutureWarning)\n",
      "C:\\Users\\Roshni Ghosh\\Anaconda3\\lib\\site-packages\\sklearn\\linear_model\\logistic.py:469: FutureWarning: Default multi_class will be changed to 'auto' in 0.22. Specify the multi_class option to silence this warning.\n",
      "  \"this warning.\", FutureWarning)\n"
     ]
    },
    {
     "name": "stdout",
     "output_type": "stream",
     "text": [
      "===CLASSIFICATION REPORT===\n",
      "              precision    recall  f1-score   support\n",
      "\n",
      "           0       0.00      0.00      0.00         9\n",
      "           1       0.48      0.30      0.37     10401\n",
      "           2       0.54      0.78      0.64     12669\n",
      "           3       0.25      0.01      0.02      2007\n",
      "\n",
      "    accuracy                           0.52     25086\n",
      "   macro avg       0.32      0.27      0.26     25086\n",
      "weighted avg       0.49      0.52      0.48     25086\n",
      "\n",
      "===CONFUSION MATRIX===\n",
      "[[   0    1    8    0]\n",
      " [   0 3138 7241   22]\n",
      " [   0 2697 9945   27]\n",
      " [   0  765 1226   16]]\n"
     ]
    },
    {
     "name": "stderr",
     "output_type": "stream",
     "text": [
      "C:\\Users\\Roshni Ghosh\\Anaconda3\\lib\\site-packages\\sklearn\\metrics\\classification.py:1437: UndefinedMetricWarning: Precision and F-score are ill-defined and being set to 0.0 in labels with no predicted samples.\n",
      "  'precision', 'predicted', average, warn_for)\n"
     ]
    }
   ],
   "source": [
    "# create an instance and fit the model \n",
    "logmodel = LogisticRegression()\n",
    "y_train1 = y_train.flatten()\n",
    "# print(\"---Y-TRAIN SHAPE---\")\n",
    "# print(y_train1.shape)\n",
    "logmodel.fit(X_train, y_train1)\n",
    "\n",
    "# predictions\n",
    "Predictions = logmodel.predict(X_test)\n",
    "# print(\"---Predictions:---\")\n",
    "# print(Predictions[:10])\n",
    "\n",
    "y_test1 = y_test.flatten()\n",
    "\n",
    "# print(\"===Y TEST1:===\")\n",
    "# print(y_test1[:10])\n",
    "\n",
    "print(\"===CLASSIFICATION REPORT===\")\n",
    "print(classification_report(y_test1,Predictions))\n",
    "\n",
    "print(\"===CONFUSION MATRIX===\")\n",
    "print(confusion_matrix(y_test1, Predictions))"
   ]
  },
  {
   "cell_type": "markdown",
   "metadata": {},
   "source": [
    "### Test Set"
   ]
  },
  {
   "cell_type": "code",
   "execution_count": 5,
   "metadata": {},
   "outputs": [
    {
     "name": "stdout",
     "output_type": "stream",
     "text": [
      "Accuracy of logistic regression classifier on test set: 0.52\n",
      "===Accuracy of Prediction:===\n",
      "13099 / 25086\n"
     ]
    }
   ],
   "source": [
    "print('Accuracy of logistic regression classifier on test set: {:.2f}'.format(logmodel.score(X_test, y_test1)))\n",
    "print(\"===Accuracy of Prediction:===\")\n",
    "print(np.sum(Predictions == y_test1), '/', y_test1.shape[0])"
   ]
  },
  {
   "cell_type": "markdown",
   "metadata": {},
   "source": [
    "### Save Model / Results"
   ]
  },
  {
   "cell_type": "code",
   "execution_count": 6,
   "metadata": {},
   "outputs": [
    {
     "name": "stdout",
     "output_type": "stream",
     "text": [
      "C:\\Users\\Roshni Ghosh\\Documents\\MachineLearning\\traffic-accident-weather-analysis\\code\\module2_data\\GA\\LogisticRegression\n"
     ]
    }
   ],
   "source": [
    "save_dir = current_dir + '\\\\module2_data\\\\' + state + '\\\\LogisticRegression'\n",
    "print(save_dir)\n",
    "if not os.path.exists(save_dir):\n",
    "    os.makedirs(save_dir)"
   ]
  },
  {
   "cell_type": "code",
   "execution_count": null,
   "metadata": {},
   "outputs": [],
   "source": []
  }
 ],
 "metadata": {
  "kernelspec": {
   "display_name": "Python 3",
   "language": "python",
   "name": "python3"
  },
  "language_info": {
   "codemirror_mode": {
    "name": "ipython",
    "version": 3
   },
   "file_extension": ".py",
   "mimetype": "text/x-python",
   "name": "python",
   "nbconvert_exporter": "python",
   "pygments_lexer": "ipython3",
   "version": "3.7.4"
  }
 },
 "nbformat": 4,
 "nbformat_minor": 2
}
