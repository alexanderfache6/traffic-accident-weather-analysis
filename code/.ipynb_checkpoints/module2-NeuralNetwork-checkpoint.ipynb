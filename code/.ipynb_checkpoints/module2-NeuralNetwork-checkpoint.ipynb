{
 "cells": [
  {
   "cell_type": "markdown",
   "metadata": {},
   "source": [
    "# Module 2 - Supervised Learning - Neural Network"
   ]
  },
  {
   "cell_type": "markdown",
   "metadata": {},
   "source": [
    "---\n",
    "\n",
    "## Imports"
   ]
  },
  {
   "cell_type": "code",
   "execution_count": 6,
   "metadata": {},
   "outputs": [
    {
     "name": "stdout",
     "output_type": "stream",
     "text": [
      "1.8.0\n"
     ]
    }
   ],
   "source": [
    "import matplotlib.pyplot as plt\n",
    "import numpy as np\n",
    "import os\n",
    "import pandas as pd\n",
    "import seaborn as sb\n",
    "from sklearn.model_selection import train_test_split\n",
    "import tensorflow as tf\n",
    "from tensorflow import keras\n",
    "import time\n",
    "\n",
    "%matplotlib inline\n",
    "print(tf.__version__)"
   ]
  },
  {
   "cell_type": "markdown",
   "metadata": {},
   "source": [
    "---\n",
    "\n",
    "## Load Data"
   ]
  },
  {
   "cell_type": "code",
   "execution_count": 23,
   "metadata": {},
   "outputs": [
    {
     "name": "stdout",
     "output_type": "stream",
     "text": [
      "(83620, 102)\n",
      "(83620, 1)\n"
     ]
    }
   ],
   "source": [
    "state = 'GA'\n",
    "\n",
    "current_dir = os.getcwd()\n",
    "load_dir = current_dir + '\\\\module1_data\\\\' + state\n",
    "\n",
    "#uncomment 1\n",
    "# data = 'Xstate_f194.npy' #original\n",
    "# data = 'Xforest_f102.npy' #random forest feature importance\n",
    "data = 'Xpca_f194_c049_v9713.npy'#priniciple components\n",
    "\n",
    "X = np.load(load_dir + '\\\\' + data)\n",
    "print(X.shape)\n",
    "\n",
    "y = np.load(load_dir + '\\\\ystate.npy')\n",
    "y = y - 1\n",
    "print(y.shape)"
   ]
  },
  {
   "cell_type": "code",
   "execution_count": 24,
   "metadata": {},
   "outputs": [
    {
     "name": "stdout",
     "output_type": "stream",
     "text": [
      "X train: (58533, 102)\n",
      "y train: (58533, 1)\n",
      "X test:  (25086, 102)\n",
      "y test:  (25086, 1)\n"
     ]
    }
   ],
   "source": [
    "#DO NOT CHANGE\n",
    "\n",
    "#split into training and test sets\n",
    "\n",
    "X_train, X_test, y_train, y_test = train_test_split(X, y, test_size=0.30, train_size=0.70, random_state=0, shuffle=True)\n",
    "\n",
    "print('X train:', X_train.shape)\n",
    "print('y train:', y_train.shape)\n",
    "print('X test: ', X_test.shape)\n",
    "print('y test: ', y_test.shape)"
   ]
  },
  {
   "cell_type": "markdown",
   "metadata": {},
   "source": [
    "---\n",
    "\n",
    "## Neural Network"
   ]
  },
  {
   "cell_type": "code",
   "execution_count": 25,
   "metadata": {},
   "outputs": [
    {
     "name": "stdout",
     "output_type": "stream",
     "text": [
      "Input Layer: 102\n",
      "Output Layer: 4\n"
     ]
    }
   ],
   "source": [
    "input_layer = X_train.shape[1]\n",
    "output_layer = np.unique(y_train).shape[0]\n",
    "print('Input Layer:', input_layer)\n",
    "print('Output Layer:', output_layer)"
   ]
  },
  {
   "cell_type": "markdown",
   "metadata": {},
   "source": [
    "### Setup"
   ]
  },
  {
   "cell_type": "code",
   "execution_count": 26,
   "metadata": {},
   "outputs": [
    {
     "name": "stdout",
     "output_type": "stream",
     "text": [
      "Ni = 102, No = 4, Ns = 58533, alpha = 5 --> Nh = 110\n"
     ]
    }
   ],
   "source": [
    "Ni = input_layer\n",
    "No = output_layer\n",
    "Ns = X_train.shape[0]\n",
    "alpha = 5\n",
    "Nh = int(Ns / (alpha*(Ni+No)))\n",
    "print('Ni = %d, No = %d, Ns = %d, alpha = %d --> Nh = %d' % (Ni, No, Ns, alpha, Nh))"
   ]
  },
  {
   "cell_type": "code",
   "execution_count": 27,
   "metadata": {},
   "outputs": [
    {
     "name": "stdout",
     "output_type": "stream",
     "text": [
      "_________________________________________________________________\n",
      "Layer (type)                 Output Shape              Param #   \n",
      "=================================================================\n",
      "dense_9 (Dense)              (None, 200)               20600     \n",
      "_________________________________________________________________\n",
      "dense_10 (Dense)             (None, 200)               40200     \n",
      "_________________________________________________________________\n",
      "dense_11 (Dense)             (None, 4)                 804       \n",
      "=================================================================\n",
      "Total params: 61,604\n",
      "Trainable params: 61,604\n",
      "Non-trainable params: 0\n",
      "_________________________________________________________________\n",
      "Epoch 1/10\n",
      "58533/58533 [==============================] - 4s 66us/step - loss: 0.8845 - acc: 0.5186 - mean_squared_error: 2.4317\n",
      "Epoch 2/10\n",
      "58533/58533 [==============================] - 4s 66us/step - loss: 0.8620 - acc: 0.5365 - mean_squared_error: 2.4335\n",
      "Epoch 3/10\n",
      "58533/58533 [==============================] - 4s 62us/step - loss: 0.8483 - acc: 0.5430 - mean_squared_error: 2.4348\n",
      "Epoch 4/10\n",
      "58533/58533 [==============================] - 4s 69us/step - loss: 0.8406 - acc: 0.5460 - mean_squared_error: 2.4357\n",
      "Epoch 5/10\n",
      "58533/58533 [==============================] - 4s 64us/step - loss: 0.8334 - acc: 0.5525 - mean_squared_error: 2.4366\n",
      "Epoch 6/10\n",
      "58533/58533 [==============================] - 4s 68us/step - loss: 0.8288 - acc: 0.5515 - mean_squared_error: 2.4371\n",
      "Epoch 7/10\n",
      "58533/58533 [==============================] - 4s 65us/step - loss: 0.8250 - acc: 0.5556 - mean_squared_error: 2.4377\n",
      "Epoch 8/10\n",
      "58533/58533 [==============================] - 4s 64us/step - loss: 0.8209 - acc: 0.5570 - mean_squared_error: 2.4380\n",
      "Epoch 9/10\n",
      "58533/58533 [==============================] - 5s 91us/step - loss: 0.8159 - acc: 0.5595 - mean_squared_error: 2.4389\n",
      "Epoch 10/10\n",
      "58533/58533 [==============================] - 4s 70us/step - loss: 0.8112 - acc: 0.5655 - mean_squared_error: 2.4393\n"
     ]
    },
    {
     "data": {
      "text/plain": [
       "<tensorflow.python.keras._impl.keras.callbacks.History at 0x28202fd0048>"
      ]
     },
     "execution_count": 27,
     "metadata": {},
     "output_type": "execute_result"
    }
   ],
   "source": [
    "model = keras.Sequential()\n",
    "\n",
    "# 1\n",
    "model.add(keras.layers.Dense(200, input_shape=(input_layer,), activation='relu'))\n",
    "model.add(keras.layers.Dense(200))\n",
    "model.add(keras.layers.Dense(output_layer, activation='softmax'))\n",
    "\n",
    "# Xcity Test Accuracy: 77.81%\n",
    "# Xpca Test Accuracy: 77.68%\n",
    "# Xforest Test Accuracy: 77.63%\n",
    "\n",
    "# 2\n",
    "# model.add(keras.layers.Dense(Nh, input_shape=(input_layer,), activation='relu'))\n",
    "# model.add(keras.layers.Dense(output_layer, activation='softmax'))\n",
    "\n",
    "\n",
    "\n",
    "model.summary()\n",
    "model.compile(optimizer=tf.train.AdamOptimizer(), loss='sparse_categorical_crossentropy', metrics=['accuracy', 'mse'])\n",
    "model.fit(X_train, y_train, epochs=10, verbose=1)"
   ]
  },
  {
   "cell_type": "markdown",
   "metadata": {},
   "source": [
    "### Test Set"
   ]
  },
  {
   "cell_type": "code",
   "execution_count": 28,
   "metadata": {},
   "outputs": [
    {
     "name": "stdout",
     "output_type": "stream",
     "text": [
      "25086/25086 [==============================] - 1s 34us/step\n",
      "Test Accuracy: 54.09%\n"
     ]
    }
   ],
   "source": [
    "test_loss, test_accuracy, test_mean_square_error = model.evaluate(X_test, y_test)\n",
    "\n",
    "print(\"Test Accuracy: {:5.2f}%\".format(100*test_accuracy))"
   ]
  },
  {
   "cell_type": "code",
   "execution_count": 29,
   "metadata": {},
   "outputs": [
    {
     "name": "stdout",
     "output_type": "stream",
     "text": [
      "25086/25086 [==============================] - 1s 29us/step\n"
     ]
    }
   ],
   "source": [
    "predictions = np.expand_dims(model.predict_classes(X_test, verbose=1), axis=1)"
   ]
  },
  {
   "cell_type": "code",
   "execution_count": 30,
   "metadata": {},
   "outputs": [
    {
     "name": "stdout",
     "output_type": "stream",
     "text": [
      "13570 / 25086\n"
     ]
    }
   ],
   "source": [
    "print(np.sum(predictions == y_test), '/', y_test.shape[0])"
   ]
  },
  {
   "cell_type": "markdown",
   "metadata": {},
   "source": [
    "### Save Model"
   ]
  },
  {
   "cell_type": "code",
   "execution_count": null,
   "metadata": {},
   "outputs": [],
   "source": []
  }
 ],
 "metadata": {
  "kernelspec": {
   "display_name": "Python 3",
   "language": "python",
   "name": "python3"
  },
  "language_info": {
   "codemirror_mode": {
    "name": "ipython",
    "version": 3
   },
   "file_extension": ".py",
   "mimetype": "text/x-python",
   "name": "python",
   "nbconvert_exporter": "python",
   "pygments_lexer": "ipython3",
   "version": "3.6.8"
  }
 },
 "nbformat": 4,
 "nbformat_minor": 2
}
