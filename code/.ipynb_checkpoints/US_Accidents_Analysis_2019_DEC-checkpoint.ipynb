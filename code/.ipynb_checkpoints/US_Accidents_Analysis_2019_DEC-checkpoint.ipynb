{
 "cells": [
  {
   "cell_type": "markdown",
   "metadata": {},
   "source": [
    "# Required Tasks\n",
    "\n",
    "## Visualize US Accidents Dataset\n",
    "    This is a countrywide traffic accident dataset, which covers 49 states of the United States. The purpose of this task is to visualize the dataset states wise.\n",
    "\n",
    "## The state that has the highest number of accidents\n",
    "    Task Details\n",
    "    Which US state has the highest number of accidents, and a description of the accidents that usually occur in that state.\n",
    "    Expected Submission\n",
    "    A notebook that shows the state with the highest number of accidents and the main cause of the accidents in that state.\n",
    "    Evaluation\n",
    "    All states should be ranked with the first one being the state with the highest accidents. This is done for better comparisons and to provide a more detailed solution.\n",
    "\n",
    "## At what time do accidents usually occur in the US\n",
    "    Task Details\n",
    "    Figure out the time that accidents usually occur in the US. This can be done by using the \"start time\" and \"end time\" columns.\n",
    "    Expected Submission\n",
    "    A notebook that outputs the time that accidents usually occur.\n",
    "    Evaluation\n",
    "    A proper ranking of the times that accidents occur. The time that accidents usually occur should be at the top of the list together with the number of times accidents occurred during that specific time. Other times at lower ranks should follow. This is done to provide a more detailed solution.\n",
    "\n",
    "## Predict the location of the accident\n",
    "\n",
    "## Factors Affecting Accident Severity\n",
    "    Examine the relationship between accident severity and other accident information such as time, weather, and location."
   ]
  },
  {
   "cell_type": "code",
   "execution_count": null,
   "metadata": {
    "_cell_guid": "b1076dfc-b9ad-4769-8c92-a6c4dae69d19",
    "_uuid": "8f2839f25d086af736a60e9eeb907d3b93b6e0e5"
   },
   "outputs": [],
   "source": [
    "# This Python 3 environment comes with many helpful analytics libraries installed\n",
    "# It is defined by the kaggle/python docker image: https://github.com/kaggle/docker-python\n",
    "# For example, here's several helpful packages to load in \n",
    "\n",
    "import numpy as np # linear algebra\n",
    "import pandas as pd # data processing, CSV file I/O (e.g. pd.read_csv)\n",
    "\n",
    "# Input data files are available in the \"../input/\" directory.\n",
    "# For example, running this (by clicking run or pressing Shift+Enter) will list all files under the input directory\n",
    "\n",
    "import os\n",
    "for dirname, _, filenames in os.walk('/kaggle/input'):\n",
    "    for filename in filenames:\n",
    "        print(os.path.join(dirname, filename))\n",
    "\n",
    "# Any results you write to the current directory are saved as output.\n",
    "%matplotlib inline\n",
    "import matplotlib.pyplot as plt\n",
    "import seaborn as sb"
   ]
  },
  {
   "cell_type": "code",
   "execution_count": null,
   "metadata": {
    "_cell_guid": "79c7e3d0-c299-4dcb-8224-4455121ee9b0",
    "_uuid": "d629ff2d2480ee46fbb7e2d37f6b5fab8052498a"
   },
   "outputs": [],
   "source": [
    "data_dir = r'C:\\Users\\alexa\\Documents\\GeorgiaTech\\Classes\\Year4\\CS4641'\n",
    "datasets = os.listdir(data_dir)\n",
    "df = pd.read_csv(data_dir + '\\\\' + datasets[0])\n",
    "\n",
    "# df = pd.read_csv('/kaggle/input/us-accidents/US_Accidents_Dec19.csv')\n",
    "df.head()"
   ]
  },
  {
   "cell_type": "code",
   "execution_count": null,
   "metadata": {},
   "outputs": [],
   "source": [
    "df.dtypes"
   ]
  },
  {
   "cell_type": "code",
   "execution_count": null,
   "metadata": {},
   "outputs": [],
   "source": [
    "# Obtaining all the possible numeric columns\n",
    "df.describe()"
   ]
  },
  {
   "cell_type": "code",
   "execution_count": null,
   "metadata": {},
   "outputs": [],
   "source": [
    "#We can make the start and End Times real datetime columns\n",
    "df['Start_Time'] = pd.to_datetime(df['Start_Time'])\n",
    "df['End_Time'] = pd.to_datetime(df['End_Time'])\n",
    "df.dtypes"
   ]
  },
  {
   "cell_type": "code",
   "execution_count": null,
   "metadata": {},
   "outputs": [],
   "source": [
    "#Lets identify columns with Nulls and NaNs.\n",
    "\n",
    "df.isnull().sum()"
   ]
  },
  {
   "cell_type": "code",
   "execution_count": null,
   "metadata": {},
   "outputs": [],
   "source": [
    "df.isna().sum()"
   ]
  },
  {
   "cell_type": "code",
   "execution_count": null,
   "metadata": {},
   "outputs": [],
   "source": [
    "#Cleanup some columns by removing Nulls or Filling NaNs\n",
    "#Define a funcation impute median\n",
    "def impute_median(series):\n",
    "    return series.fillna(series.median())\n",
    "\n",
    "def impute_mean(series):\n",
    "    return series.fillna(series.mean())"
   ]
  },
  {
   "cell_type": "code",
   "execution_count": null,
   "metadata": {},
   "outputs": [],
   "source": [
    "df.End_Lat = df['End_Lat'].transform(impute_median)\n",
    "df.End_Lng = df['End_Lng'].transform(impute_median)\n",
    "df.TMC = df['TMC'].transform(impute_median)\n",
    "df.Number = df['Number'].transform(impute_mean)\n",
    "df['Temperature(F)'] = df['Temperature(F)'].transform(impute_median)\n",
    "df['Wind_Chill(F)'] = df['Wind_Chill(F)'].transform(impute_median)\n",
    "df['Humidity(%)'] = df['Humidity(%)'].transform(impute_median)\n",
    "df['Pressure(in)'] = df['Pressure(in)'].transform(impute_median)\n",
    "df['Visibility(mi)'] = df['Visibility(mi)'].transform(impute_median)\n",
    "df['Wind_Speed(mph)'] = df['Wind_Speed(mph)'].transform(impute_median)\n",
    "df['Precipitation(in)'] = df['Precipitation(in)'].transform(impute_median)\n",
    "df.isnull().sum()"
   ]
  },
  {
   "cell_type": "code",
   "execution_count": null,
   "metadata": {},
   "outputs": [],
   "source": [
    "#Modes of categorical values\n",
    "print(df['Weather_Condition'].mode())\n",
    "print(df['Astronomical_Twilight'].mode())\n",
    "print(df['Nautical_Twilight'].mode())\n",
    "print(df['Weather_Timestamp'].mode())\n",
    "print(df['Civil_Twilight'].mode())\n",
    "print(df['Sunrise_Sunset'].mode())\n",
    "print(df['Wind_Direction'].mode())\n",
    "print(df['City'].mode())\n",
    "print(df['Zipcode'].mode())\n",
    "print(df['Airport_Code'].mode())\n",
    "print(df['Timezone'].mode())\n",
    "print(df['Description'].mode())\n"
   ]
  },
  {
   "cell_type": "code",
   "execution_count": null,
   "metadata": {},
   "outputs": [],
   "source": [
    "df['Weather_Condition'].fillna(str(df['Weather_Condition'].mode().values[0]), inplace=True)\n",
    "df['Astronomical_Twilight'].fillna(str(df['Astronomical_Twilight'].mode().values[0]), inplace=True)\n",
    "df['Nautical_Twilight'].fillna(str(df['Nautical_Twilight'].mode().values[0]), inplace=True)\n",
    "df['Weather_Timestamp'].fillna(str(df['Weather_Timestamp'].mode().values[0]), inplace=True)\n",
    "df['Weather_Timestamp'] = pd.to_datetime(df['Weather_Timestamp'])\n",
    "df['Civil_Twilight'].fillna(str(df['Civil_Twilight'].mode().values[0]), inplace=True)\n",
    "df['City'].fillna(str(df['City'].mode().values[0]), inplace=True)\n",
    "df['Sunrise_Sunset'].fillna(str(df['Sunrise_Sunset'].mode().values[0]), inplace=True)\n",
    "df['Wind_Direction'].fillna(str(df['Wind_Direction'].mode().values[0]), inplace=True)\n",
    "df['Zipcode'].fillna(str(df['Zipcode'].mode().values[0]), inplace=True)\n",
    "df['Airport_Code'].fillna(str(df['Airport_Code'].mode().values[0]), inplace=True)\n",
    "df['Timezone'].fillna(str(df['Timezone'].mode().values[0]), inplace=True)\n",
    "df['Description'].fillna(str(df['Description'].mode().values[0]), inplace=True)\n",
    "df.isnull().sum()"
   ]
  },
  {
   "cell_type": "markdown",
   "metadata": {},
   "source": [
    "## Aggregation and Groupby Analysis of cleaned data"
   ]
  },
  {
   "cell_type": "code",
   "execution_count": null,
   "metadata": {},
   "outputs": [],
   "source": [
    "df.describe()"
   ]
  },
  {
   "cell_type": "code",
   "execution_count": null,
   "metadata": {},
   "outputs": [],
   "source": [
    "df.head()"
   ]
  },
  {
   "cell_type": "code",
   "execution_count": null,
   "metadata": {},
   "outputs": [],
   "source": [
    "#Add day's column in our data.\n",
    "df['day'] = df['Start_Time'].dt.day\n",
    "#Add Week_day column in the data.\n",
    "df['weekday'] = df['Start_Time'].dt.weekday\n",
    "#Add Month column in the data.\n",
    "df['month'] = df['Start_Time'].dt.month\n",
    "#Add Hour column in the data.\n",
    "df['hour'] = df['Start_Time'].dt.hour"
   ]
  },
  {
   "cell_type": "markdown",
   "metadata": {},
   "source": [
    "# Analyse Accident Number due to Weather Conditions."
   ]
  },
  {
   "cell_type": "code",
   "execution_count": null,
   "metadata": {},
   "outputs": [],
   "source": [
    "\n",
    "Result1 = df.groupby('Weather_Condition').count()\n",
    "Result1"
   ]
  },
  {
   "cell_type": "code",
   "execution_count": null,
   "metadata": {},
   "outputs": [],
   "source": [
    "plt.figure(figsize=(30, 10))\n",
    "plt.title('Number of Accidents due to Weather_Conditions')\n",
    "plt.bar(Result1.index, Result1.Number, color='r')\n",
    "plt.xlabel('Weather Conditions')\n",
    "plt.ylabel('Number of Accidents')\n",
    "plt.xticks(Result1.index, rotation='vertical', size=10)\n",
    "plt.show()"
   ]
  },
  {
   "cell_type": "markdown",
   "metadata": {},
   "source": [
    "# **At what time do accidents usually occur in the US**\n",
    "***Task Details***\n",
    "Figure out the time that accidents usually occur in the US. This can be done by using the \"start time\" and \"end time\" columns.\n",
    "\n",
    "***Expected Submission***\n",
    "A notebook that outputs the time that accidents usually occur.\n",
    "\n",
    "***Evaluation***\n",
    "A proper ranking of the times that accidents occur. The time that accidents usually occur should be at the top of the list together with the number of times accidents occurred during that specific time. Other times at lower ranks should follow. This is done to provide a more detailed solution.\n"
   ]
  },
  {
   "cell_type": "markdown",
   "metadata": {},
   "source": [
    "## Analyse Accident Number Per Day of the Month."
   ]
  },
  {
   "cell_type": "code",
   "execution_count": null,
   "metadata": {},
   "outputs": [],
   "source": [
    "Result2 = df.groupby('day').count()\n",
    "Result2"
   ]
  },
  {
   "cell_type": "code",
   "execution_count": null,
   "metadata": {},
   "outputs": [],
   "source": [
    "plt.figure(figsize=(30, 10))\n",
    "plt.title('Number of Accidents per day of the Month')\n",
    "plt.bar(Result2.index, Result2.Number, color='b')\n",
    "plt.xlabel('Days of the Month')\n",
    "plt.ylabel('Number of Accidents')\n",
    "plt.xticks(Result2.index, rotation='vertical', size=8)\n",
    "plt.show()"
   ]
  },
  {
   "cell_type": "code",
   "execution_count": null,
   "metadata": {},
   "outputs": [],
   "source": [
    "print('The Day of the Month when accidents usually occur the Most in the US? : ',Result2.Number.idxmax())\n",
    "Result2['Number'].sort_values(ascending=False)"
   ]
  },
  {
   "cell_type": "markdown",
   "metadata": {},
   "source": [
    "# Analyse Accident Number Per Day of the Week"
   ]
  },
  {
   "cell_type": "code",
   "execution_count": null,
   "metadata": {},
   "outputs": [],
   "source": [
    "Result3 = df.groupby('weekday').count()\n",
    "Result3"
   ]
  },
  {
   "cell_type": "code",
   "execution_count": null,
   "metadata": {},
   "outputs": [],
   "source": [
    "plt.figure(figsize=(30, 10))\n",
    "plt.title('Number of Accidents per day of the Week')\n",
    "plt.bar(Result3.index, Result3.Number, color='g')\n",
    "plt.xlabel('Days of the Week')\n",
    "plt.ylabel('Number of Accidents')\n",
    "plt.xticks(Result3.index, rotation='vertical', size=8)\n",
    "plt.show()"
   ]
  },
  {
   "cell_type": "code",
   "execution_count": null,
   "metadata": {},
   "outputs": [],
   "source": [
    "print('The Weekday when accidents usually occur the Most in the US? : ',Result3.Number.idxmax())\n",
    "Result3['Number'].sort_values(ascending=False)"
   ]
  },
  {
   "cell_type": "markdown",
   "metadata": {},
   "source": [
    "# Analysis of  Accident Number per Hour of the day"
   ]
  },
  {
   "cell_type": "code",
   "execution_count": null,
   "metadata": {},
   "outputs": [],
   "source": [
    "Result9 = df.groupby('hour').count()\n",
    "Result9"
   ]
  },
  {
   "cell_type": "code",
   "execution_count": null,
   "metadata": {},
   "outputs": [],
   "source": [
    "plt.figure(figsize=(30, 10))\n",
    "plt.title('Number of Accidents per Hour of the day')\n",
    "plt.bar(Result9.index, Result9.Number, color='r')\n",
    "plt.xlabel('Hours of the day')\n",
    "plt.ylabel('Number of Accidents')\n",
    "plt.xticks(Result9.index, rotation='vertical', size=20)\n",
    "plt.show()"
   ]
  },
  {
   "cell_type": "markdown",
   "metadata": {},
   "source": [
    "# Analyse Accident Number Per Month."
   ]
  },
  {
   "cell_type": "code",
   "execution_count": null,
   "metadata": {},
   "outputs": [],
   "source": [
    "Result8 = df.groupby('month').count()\n",
    "Result8"
   ]
  },
  {
   "cell_type": "code",
   "execution_count": null,
   "metadata": {},
   "outputs": [],
   "source": [
    "plt.figure(figsize=(30, 10))\n",
    "plt.title('Number of Accidents Per Month')\n",
    "plt.bar(Result8.index, Result8.Number, color='r')\n",
    "plt.xlabel('Month')\n",
    "plt.ylabel('Number of Accidents')\n",
    "plt.xticks(Result8.index, rotation='vertical', size=15)\n",
    "plt.show()"
   ]
  },
  {
   "cell_type": "code",
   "execution_count": null,
   "metadata": {},
   "outputs": [],
   "source": [
    "print('The Month when accidents usually occur the Most in the US? : ',Result8.Number.idxmax())\n",
    "Result8['Number'].sort_values(ascending=False)"
   ]
  },
  {
   "cell_type": "markdown",
   "metadata": {},
   "source": [
    "## Ans to the Time Question"
   ]
  },
  {
   "cell_type": "code",
   "execution_count": null,
   "metadata": {},
   "outputs": [],
   "source": [
    "print('At what time do accidents usually occur in the US? : ',Result9.Number.idxmax())"
   ]
  },
  {
   "cell_type": "code",
   "execution_count": null,
   "metadata": {},
   "outputs": [],
   "source": [
    "#A proper ranking of the times that accidents occur. The time that accidents usually occur should be at the top of the list together... \n",
    "#with the number of times accidents occurred during that specific time. Other times at lower ranks should follow. \n",
    "#This is done to provide a more detailed solution.\n",
    "\n",
    "Result9['Number'].sort_values(ascending=False)"
   ]
  },
  {
   "cell_type": "markdown",
   "metadata": {},
   "source": [
    "# Visualize US Accidents Dataset\n",
    "    This is a countrywide traffic accident dataset, which covers 49 states of the United States. The purpose of this task is to visualize the dataset states wise."
   ]
  },
  {
   "cell_type": "markdown",
   "metadata": {},
   "source": [
    "### Analysis of Accident Number Per State"
   ]
  },
  {
   "cell_type": "code",
   "execution_count": null,
   "metadata": {},
   "outputs": [],
   "source": [
    "Result4 = df.groupby('State').count()\n",
    "Result4"
   ]
  },
  {
   "cell_type": "code",
   "execution_count": null,
   "metadata": {},
   "outputs": [],
   "source": [
    "plt.figure(figsize=(30, 10))\n",
    "plt.title('Number of Accidents per State')\n",
    "plt.bar(Result4.index, Result4.Number, color='g')\n",
    "plt.xlabel('States')\n",
    "plt.ylabel('Number of Accidents')\n",
    "plt.xticks(Result4.index, rotation='vertical', size=10)\n",
    "plt.show()"
   ]
  },
  {
   "cell_type": "markdown",
   "metadata": {},
   "source": [
    "### All states should be ranked with the first one being the state with the highest accidents. This is done for better comparisons and to provide a more detailed solution."
   ]
  },
  {
   "cell_type": "code",
   "execution_count": null,
   "metadata": {},
   "outputs": [],
   "source": [
    "print('The State where accidents usually occur the Most in the US? : ',Result4.Number.idxmax())\n",
    "print('The Rank of Accidents state wise is:\\n ',Result4['Number'].sort_values(ascending=False))"
   ]
  },
  {
   "cell_type": "markdown",
   "metadata": {},
   "source": [
    "### Description of the accidents that usually occur in the state of most Accidents.\n"
   ]
  },
  {
   "cell_type": "code",
   "execution_count": null,
   "metadata": {},
   "outputs": [],
   "source": [
    "df1= df[df['State']=='CA']\n",
    "df1.Description.unique()"
   ]
  },
  {
   "cell_type": "markdown",
   "metadata": {},
   "source": [
    "### Accidents occurance in all the 49 States"
   ]
  },
  {
   "cell_type": "code",
   "execution_count": null,
   "metadata": {},
   "outputs": [],
   "source": [
    "#plotting the Lat against Long could show the map of the area\n",
    "plt.figure(figsize=(50,30))\n",
    "plt.title('Most Hits per Area')\n",
    "plt.xlabel('Start Longitude')\n",
    "plt.ylabel('Start Latitude')\n",
    "plt.plot(df.Start_Lng, df.Start_Lat, \".\", alpha=0.5, ms=1)\n",
    "plt.show()"
   ]
  },
  {
   "cell_type": "code",
   "execution_count": null,
   "metadata": {},
   "outputs": [],
   "source": [
    "#plotting the Lat against Long could show the map of the area\n",
    "plt.figure(figsize=(50,30))\n",
    "plt.title('Most Hits per Area')\n",
    "plt.xlabel('End Longitude')\n",
    "plt.ylabel('End Latitude')\n",
    "plt.plot(df.End_Lng, df.End_Lat, \".\", alpha=0.5, ms=1)\n",
    "plt.show()"
   ]
  },
  {
   "cell_type": "markdown",
   "metadata": {},
   "source": [
    "# Factors Affecting Accident Severity\n",
    "    Examine the relationship between accident severity and other accident information such as time, weather, and location.\n"
   ]
  },
  {
   "cell_type": "code",
   "execution_count": null,
   "metadata": {},
   "outputs": [],
   "source": [
    "Result7 = df.groupby('Severity').count()\n",
    "Result7"
   ]
  },
  {
   "cell_type": "code",
   "execution_count": null,
   "metadata": {},
   "outputs": [],
   "source": [
    "plt.figure(figsize=(5, 10))\n",
    "plt.title('Number of Accidents Per Severity')\n",
    "plt.bar(Result7.index, Result7.Number, color='r')\n",
    "plt.xlabel('Severity')\n",
    "plt.ylabel('Number of Accidents')\n",
    "plt.xticks(Result7.index, rotation='vertical', size=15)\n",
    "plt.show()"
   ]
  },
  {
   "cell_type": "markdown",
   "metadata": {},
   "source": [
    "### Severity Relation Ships"
   ]
  },
  {
   "cell_type": "code",
   "execution_count": null,
   "metadata": {},
   "outputs": [],
   "source": [
    "#plt.bar(df.Severity, df.hour)\n",
    "#plt.show()"
   ]
  },
  {
   "cell_type": "markdown",
   "metadata": {},
   "source": [
    "# Analysis of Accident Number Per County"
   ]
  },
  {
   "cell_type": "code",
   "execution_count": null,
   "metadata": {},
   "outputs": [],
   "source": [
    "Result5 = df.groupby('County').count()\n",
    "Result5"
   ]
  },
  {
   "cell_type": "code",
   "execution_count": null,
   "metadata": {},
   "outputs": [],
   "source": [
    "plt.figure(figsize=(100, 10))\n",
    "plt.title('Number of Accidents per County')\n",
    "plt.bar(Result5.index, Result5.Number, color='b')\n",
    "plt.xlabel('Counties')\n",
    "plt.ylabel('Number of Accidents')\n",
    "plt.xticks(Result5.index, rotation='vertical', size=10)\n",
    "plt.show()"
   ]
  },
  {
   "cell_type": "code",
   "execution_count": null,
   "metadata": {},
   "outputs": [],
   "source": [
    "print('The County where accidents usually occur the Most in the US? : ',Result5.Number.idxmax())\n",
    "print('The Rank of Accidents County wise is:\\n ',Result5['Number'].sort_values(ascending=False))"
   ]
  },
  {
   "cell_type": "markdown",
   "metadata": {},
   "source": [
    "# Analyse Accident Number due to Weather Direction"
   ]
  },
  {
   "cell_type": "code",
   "execution_count": null,
   "metadata": {},
   "outputs": [],
   "source": [
    "Result6 = df.groupby('Wind_Direction').count()\n",
    "Result6"
   ]
  },
  {
   "cell_type": "code",
   "execution_count": null,
   "metadata": {},
   "outputs": [],
   "source": [
    "plt.figure(figsize=(30, 10))\n",
    "plt.title('Number of Accidents due to Wind_Directions')\n",
    "plt.bar(Result6.index, Result6.Number, color='r')\n",
    "plt.xlabel('Wind_Directions')\n",
    "plt.ylabel('Number of Accidents')\n",
    "plt.xticks(Result6.index, rotation='vertical', size=15)\n",
    "plt.show()"
   ]
  },
  {
   "cell_type": "code",
   "execution_count": null,
   "metadata": {},
   "outputs": [],
   "source": [
    "print('The Wind_Direction for which accidents usually occur the Most in the US? : ',Result6.Number.idxmax())\n",
    "print('The Rank of Accidents Wind_Direction wise is:\\n ',Result6['Number'].sort_values(ascending=False))"
   ]
  },
  {
   "cell_type": "markdown",
   "metadata": {},
   "source": [
    "# Distribution of Latitudes and Longitudes"
   ]
  },
  {
   "cell_type": "code",
   "execution_count": null,
   "metadata": {},
   "outputs": [],
   "source": [
    "plt.hist(df.Start_Lng, bins=31, range=(-110, -65))\n",
    "plt.show()"
   ]
  },
  {
   "cell_type": "code",
   "execution_count": null,
   "metadata": {},
   "outputs": [],
   "source": [
    "plt.hist(df.End_Lng,bins=31)\n",
    "plt.show()"
   ]
  },
  {
   "cell_type": "code",
   "execution_count": null,
   "metadata": {},
   "outputs": [],
   "source": [
    "plt.hist(df.Start_Lat, bins=31, range=(26, 49))\n",
    "plt.show()"
   ]
  },
  {
   "cell_type": "code",
   "execution_count": null,
   "metadata": {},
   "outputs": [],
   "source": [
    "plt.hist(df.End_Lat, bins=31)\n",
    "plt.show()"
   ]
  },
  {
   "cell_type": "code",
   "execution_count": null,
   "metadata": {},
   "outputs": [],
   "source": []
  }
 ],
 "metadata": {
  "kernelspec": {
   "display_name": "Python 3",
   "language": "python",
   "name": "python3"
  },
  "language_info": {
   "codemirror_mode": {
    "name": "ipython",
    "version": 3
   },
   "file_extension": ".py",
   "mimetype": "text/x-python",
   "name": "python",
   "nbconvert_exporter": "python",
   "pygments_lexer": "ipython3",
   "version": "3.6.8"
  }
 },
 "nbformat": 4,
 "nbformat_minor": 4
}
