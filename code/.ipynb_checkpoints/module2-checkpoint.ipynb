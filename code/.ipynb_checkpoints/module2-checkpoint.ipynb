{
 "cells": [
  {
   "cell_type": "markdown",
   "metadata": {},
   "source": [
    "# Module 2 - Supervised Learning"
   ]
  },
  {
   "cell_type": "markdown",
   "metadata": {},
   "source": [
    "---\n",
    "\n",
    "## Imports"
   ]
  },
  {
   "cell_type": "code",
   "execution_count": 2,
   "metadata": {},
   "outputs": [
    {
     "name": "stdout",
     "output_type": "stream",
     "text": [
      "1.8.0\n"
     ]
    }
   ],
   "source": [
    "import matplotlib.pyplot as plt\n",
    "import numpy as np\n",
    "import os\n",
    "import pandas as pd\n",
    "import seaborn as sb\n",
    "from sklearn.model_selection import train_test_split\n",
    "import tensorflow as tf\n",
    "from tensorflow import keras\n",
    "import time\n",
    "\n",
    "%matplotlib inline\n",
    "print(tf.__version__)"
   ]
  },
  {
   "cell_type": "markdown",
   "metadata": {},
   "source": [
    "---\n",
    "\n",
    "## Load Data"
   ]
  },
  {
   "cell_type": "code",
   "execution_count": 30,
   "metadata": {},
   "outputs": [
    {
     "name": "stdout",
     "output_type": "stream",
     "text": [
      "(93289, 101)\n",
      "(93289, 1)\n"
     ]
    }
   ],
   "source": [
    "city = 'Houston'\n",
    "\n",
    "# Xcity_f194.npy\n",
    "# Xpca_f194_c049_v9709.npy\n",
    "# Xforest_f101.npy\n",
    "\n",
    "current_dir = os.getcwd()\n",
    "load_dir = current_dir + '\\\\module1_data\\\\'+city\n",
    "\n",
    "X = np.load(load_dir+'\\\\Xforest_f101.npy')\n",
    "print(X.shape)\n",
    "\n",
    "y = np.load(load_dir+'\\\\ycity.npy')\n",
    "print(y.shape)\n",
    "y = y - 1 #need to do for NN class labels 0-3 not 1-4"
   ]
  },
  {
   "cell_type": "code",
   "execution_count": 31,
   "metadata": {},
   "outputs": [
    {
     "name": "stdout",
     "output_type": "stream",
     "text": [
      "X train: (65302, 101)\n",
      "y train: (65302, 1)\n",
      "X test:  (27987, 101)\n",
      "y test:  (27987, 1)\n"
     ]
    }
   ],
   "source": [
    "#split into training and test sets\n",
    "\n",
    "X_train, X_test, y_train, y_test = train_test_split(X, y, test_size=0.30, train_size=0.70, random_state=42, shuffle=True)\n",
    "\n",
    "print('X train:', X_train.shape)\n",
    "print('y train:', y_train.shape)\n",
    "print('X test: ', X_test.shape)\n",
    "print('y test: ', y_test.shape)"
   ]
  },
  {
   "cell_type": "markdown",
   "metadata": {},
   "source": [
    "---\n",
    "\n",
    "## Neural Network"
   ]
  },
  {
   "cell_type": "code",
   "execution_count": 32,
   "metadata": {},
   "outputs": [
    {
     "name": "stdout",
     "output_type": "stream",
     "text": [
      "Input Layer: 101\n",
      "Output Layer: 4\n"
     ]
    }
   ],
   "source": [
    "input_layer = X_train.shape[1]\n",
    "output_layer = np.unique(y_train).shape[0]\n",
    "print('Input Layer:', input_layer)\n",
    "print('Output Layer:', output_layer)"
   ]
  },
  {
   "cell_type": "markdown",
   "metadata": {},
   "source": [
    "### Setup"
   ]
  },
  {
   "cell_type": "code",
   "execution_count": 33,
   "metadata": {},
   "outputs": [
    {
     "name": "stdout",
     "output_type": "stream",
     "text": [
      "_________________________________________________________________\n",
      "Layer (type)                 Output Shape              Param #   \n",
      "=================================================================\n",
      "dense_13 (Dense)             (None, 200)               20400     \n",
      "_________________________________________________________________\n",
      "dense_14 (Dense)             (None, 200)               40200     \n",
      "_________________________________________________________________\n",
      "dense_15 (Dense)             (None, 4)                 804       \n",
      "=================================================================\n",
      "Total params: 61,404\n",
      "Trainable params: 61,404\n",
      "Non-trainable params: 0\n",
      "_________________________________________________________________\n",
      "Epoch 1/10\n",
      "65302/65302 [==============================] - 9s 136us/step - loss: 0.5527 - acc: 0.7779 - mean_squared_error: 1.2585\n",
      "Epoch 2/10\n",
      "65302/65302 [==============================] - 9s 134us/step - loss: 0.5411 - acc: 0.7804 - mean_squared_error: 1.2595\n",
      "Epoch 3/10\n",
      "65302/65302 [==============================] - 9s 135us/step - loss: 0.5358 - acc: 0.7811 - mean_squared_error: 1.2600\n",
      "Epoch 4/10\n",
      "65302/65302 [==============================] - 8s 128us/step - loss: 0.5329 - acc: 0.7817 - mean_squared_error: 1.2605\n",
      "Epoch 5/10\n",
      "65302/65302 [==============================] - 9s 141us/step - loss: 0.5299 - acc: 0.7827 - mean_squared_error: 1.2609\n",
      "Epoch 6/10\n",
      "65302/65302 [==============================] - 9s 132us/step - loss: 0.5272 - acc: 0.7831 - mean_squared_error: 1.2612\n",
      "Epoch 7/10\n",
      "65302/65302 [==============================] - 6s 93us/step - loss: 0.5248 - acc: 0.7832 - mean_squared_error: 1.2615\n",
      "Epoch 8/10\n",
      "65302/65302 [==============================] - 6s 98us/step - loss: 0.5220 - acc: 0.7840 - mean_squared_error: 1.2618\n",
      "Epoch 9/10\n",
      "65302/65302 [==============================] - 7s 107us/step - loss: 0.5191 - acc: 0.7849 - mean_squared_error: 1.2623\n",
      "Epoch 10/10\n",
      "65302/65302 [==============================] - 6s 91us/step - loss: 0.5169 - acc: 0.7865 - mean_squared_error: 1.2626\n"
     ]
    },
    {
     "data": {
      "text/plain": [
       "<tensorflow.python.keras._impl.keras.callbacks.History at 0x11bcae3eac8>"
      ]
     },
     "execution_count": 33,
     "metadata": {},
     "output_type": "execute_result"
    }
   ],
   "source": [
    "model = keras.Sequential()\n",
    "model.add(keras.layers.Dense(200, input_shape=(input_layer,), activation='relu'))\n",
    "model.add(keras.layers.Dense(200))\n",
    "model.add(keras.layers.Dense(output_layer, activation='softmax'))\n",
    "\n",
    "model.summary()\n",
    "\n",
    "model.compile(optimizer=tf.train.AdamOptimizer(), loss='sparse_categorical_crossentropy', metrics=['accuracy', 'mse'])\n",
    "\n",
    "model.fit(X_train, y_train, epochs=10, verbose=1)\n",
    "\n",
    "# Xcity Test Accuracy: 77.81%\n",
    "# Xpca Test Accuracy: 77.68%\n",
    "# Xforest Test Accuracy: 77.63%"
   ]
  },
  {
   "cell_type": "markdown",
   "metadata": {},
   "source": [
    "### Test Set"
   ]
  },
  {
   "cell_type": "code",
   "execution_count": 34,
   "metadata": {},
   "outputs": [
    {
     "name": "stdout",
     "output_type": "stream",
     "text": [
      "27987/27987 [==============================] - 1s 51us/step\n",
      "Test Accuracy: 77.63%\n"
     ]
    }
   ],
   "source": [
    "test_loss, test_accuracy, test_mean_square_error = model.evaluate(X_test, y_test)\n",
    "\n",
    "print(\"Test Accuracy: {:5.2f}%\".format(100*test_accuracy))"
   ]
  },
  {
   "cell_type": "code",
   "execution_count": 35,
   "metadata": {},
   "outputs": [
    {
     "name": "stdout",
     "output_type": "stream",
     "text": [
      "27987/27987 [==============================] - 1s 39us/step\n"
     ]
    }
   ],
   "source": [
    "predictions = np.expand_dims(model.predict_classes(X_test, verbose=1), axis=1)"
   ]
  },
  {
   "cell_type": "code",
   "execution_count": 36,
   "metadata": {},
   "outputs": [
    {
     "name": "stdout",
     "output_type": "stream",
     "text": [
      "21727 / 27987\n"
     ]
    }
   ],
   "source": [
    "print(np.sum(predictions == y_test), '/', y_test.shape[0])"
   ]
  },
  {
   "cell_type": "markdown",
   "metadata": {},
   "source": [
    "### Save Model\n",
    "\n",
    "not working"
   ]
  },
  {
   "cell_type": "code",
   "execution_count": 35,
   "metadata": {},
   "outputs": [],
   "source": [
    "# current_dir = os.getcwd()\n",
    "# save_dir = current_dir + '\\\\module2_data\\\\'+city\n",
    "\n",
    "# model.save(save_dir+'\\\\model') "
   ]
  },
  {
   "cell_type": "code",
   "execution_count": 36,
   "metadata": {},
   "outputs": [],
   "source": [
    "# new_model = tf.keras.models.load_model('model')\n",
    "# print(new_model)"
   ]
  },
  {
   "cell_type": "markdown",
   "metadata": {},
   "source": [
    "---\n",
    "\n",
    "## KNN"
   ]
  },
  {
   "cell_type": "code",
   "execution_count": null,
   "metadata": {},
   "outputs": [],
   "source": []
  }
 ],
 "metadata": {
  "kernelspec": {
   "display_name": "Python 3",
   "language": "python",
   "name": "python3"
  },
  "language_info": {
   "codemirror_mode": {
    "name": "ipython",
    "version": 3
   },
   "file_extension": ".py",
   "mimetype": "text/x-python",
   "name": "python",
   "nbconvert_exporter": "python",
   "pygments_lexer": "ipython3",
   "version": "3.6.8"
  }
 },
 "nbformat": 4,
 "nbformat_minor": 2
}
