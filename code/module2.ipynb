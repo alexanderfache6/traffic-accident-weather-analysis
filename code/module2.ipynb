{
 "cells": [
  {
   "cell_type": "markdown",
   "metadata": {},
   "source": [
    "# Module 2 - Supervised Learning"
   ]
  },
  {
   "cell_type": "markdown",
   "metadata": {},
   "source": [
    "## Imports"
   ]
  },
  {
   "cell_type": "code",
   "execution_count": 20,
   "metadata": {},
   "outputs": [
    {
     "name": "stdout",
     "output_type": "stream",
     "text": [
      "1.8.0\n"
     ]
    }
   ],
   "source": [
    "import matplotlib.pyplot as plt\n",
    "import numpy as np\n",
    "import os\n",
    "import pandas as pd\n",
    "import seaborn as sb\n",
    "from sklearn.model_selection import train_test_split\n",
    "import tensorflow as tf\n",
    "from tensorflow import keras\n",
    "\n",
    "%matplotlib inline\n",
    "print(tf.__version__)"
   ]
  },
  {
   "cell_type": "markdown",
   "metadata": {},
   "source": [
    "## Load Data"
   ]
  },
  {
   "cell_type": "code",
   "execution_count": 36,
   "metadata": {},
   "outputs": [
    {
     "name": "stdout",
     "output_type": "stream",
     "text": [
      "(37591, 100)\n",
      "(37591, 1)\n"
     ]
    }
   ],
   "source": [
    "city = 'Atlanta'\n",
    "\n",
    "current_dir = os.getcwd()\n",
    "load_dir = current_dir + '\\\\module1_data\\\\'+city\n",
    "\n",
    "X = np.load(load_dir+'\\\\forest_f100.npy')\n",
    "print(X.shape)\n",
    "\n",
    "y = np.load(load_dir+'\\\\ycity.npy')\n",
    "print(y.shape)\n",
    "y = y - 1"
   ]
  },
  {
   "cell_type": "code",
   "execution_count": 37,
   "metadata": {},
   "outputs": [
    {
     "name": "stdout",
     "output_type": "stream",
     "text": [
      "X train: (26313, 100)\n",
      "y train: (26313, 1)\n",
      "X test: (11278, 100)\n",
      "y test: (11278, 1)\n"
     ]
    }
   ],
   "source": [
    "X_train, X_test, y_train, y_test = train_test_split(X, y, test_size=0.30, train_size=0.70, random_state=42, shuffle=True)\n",
    "\n",
    "print('X train:', X_train.shape)\n",
    "print('y train:', y_train.shape)\n",
    "print('X test:', X_test.shape)\n",
    "print('y test:', y_test.shape)"
   ]
  },
  {
   "cell_type": "markdown",
   "metadata": {},
   "source": [
    "## Neural Network Model"
   ]
  },
  {
   "cell_type": "code",
   "execution_count": 52,
   "metadata": {},
   "outputs": [
    {
     "name": "stdout",
     "output_type": "stream",
     "text": [
      "Input Layer: 100\n",
      "Output Layer: 4\n"
     ]
    }
   ],
   "source": [
    "input_layer = X_train.shape[1]\n",
    "output_layer = np.unique(y_train).shape[0]\n",
    "print('Input Layer:', input_layer)\n",
    "print('Output Layer:', output_layer)\n",
    "\n",
    "model = keras.Sequential()\n",
    "model.add(keras.layers.Dense(200, input_shape=(input_layer,), activation='relu'))\n",
    "model.add(keras.layers.Dense(200))\n",
    "model.add(keras.layers.Dense(output_layer, activation='softmax'))"
   ]
  },
  {
   "cell_type": "code",
   "execution_count": 53,
   "metadata": {},
   "outputs": [],
   "source": [
    "model.compile(optimizer=tf.train.AdamOptimizer(), loss='sparse_categorical_crossentropy', metrics=['accuracy'])"
   ]
  },
  {
   "cell_type": "code",
   "execution_count": 56,
   "metadata": {},
   "outputs": [
    {
     "name": "stdout",
     "output_type": "stream",
     "text": [
      "Epoch 1/10\n",
      "26313/26313 [==============================] - 2s 79us/step - loss: 6.4826 - acc: 0.5978\n",
      "Epoch 2/10\n",
      "26313/26313 [==============================] - 3s 101us/step - loss: 6.4826 - acc: 0.5978\n",
      "Epoch 3/10\n",
      "26313/26313 [==============================] - 2s 90us/step - loss: 6.4826 - acc: 0.5978\n",
      "Epoch 4/10\n",
      "26313/26313 [==============================] - 2s 88us/step - loss: 6.4826 - acc: 0.5978\n",
      "Epoch 5/10\n",
      "26313/26313 [==============================] - 3s 95us/step - loss: 6.4826 - acc: 0.5978\n",
      "Epoch 6/10\n",
      "26313/26313 [==============================] - 2s 92us/step - loss: 6.4826 - acc: 0.5978\n",
      "Epoch 7/10\n",
      "26313/26313 [==============================] - 3s 95us/step - loss: 6.4826 - acc: 0.5978\n",
      "Epoch 8/10\n",
      "26313/26313 [==============================] - 2s 93us/step - loss: 6.4826 - acc: 0.5978\n",
      "Epoch 9/10\n",
      "26313/26313 [==============================] - 2s 83us/step - loss: 6.4826 - acc: 0.5978\n",
      "Epoch 10/10\n",
      "26313/26313 [==============================] - 2s 80us/step - loss: 6.4826 - acc: 0.5978\n"
     ]
    },
    {
     "data": {
      "text/plain": [
       "<tensorflow.python.keras._impl.keras.callbacks.History at 0x2e666aad828>"
      ]
     },
     "execution_count": 56,
     "metadata": {},
     "output_type": "execute_result"
    }
   ],
   "source": [
    "model.fit(X_train, y_train, epochs=10)"
   ]
  },
  {
   "cell_type": "code",
   "execution_count": 57,
   "metadata": {},
   "outputs": [
    {
     "name": "stdout",
     "output_type": "stream",
     "text": [
      "Test accuracy: 0.5998403972441221\n"
     ]
    }
   ],
   "source": [
    "test_loss, test_accuracy = model.evaluate(X_test, y_test, verbose=2)\n",
    "\n",
    "print('Test accuracy:', test_accuracy)"
   ]
  }
 ],
 "metadata": {
  "kernelspec": {
   "display_name": "Python 3",
   "language": "python",
   "name": "python3"
  },
  "language_info": {
   "codemirror_mode": {
    "name": "ipython",
    "version": 3
   },
   "file_extension": ".py",
   "mimetype": "text/x-python",
   "name": "python",
   "nbconvert_exporter": "python",
   "pygments_lexer": "ipython3",
   "version": "3.6.8"
  }
 },
 "nbformat": 4,
 "nbformat_minor": 2
}
