{
 "cells": [
  {
   "cell_type": "markdown",
   "metadata": {},
   "source": [
    "# Imports"
   ]
  },
  {
   "cell_type": "code",
   "execution_count": 3,
   "metadata": {},
   "outputs": [],
   "source": [
    "import numpy as np\n",
    "import pandas as pd\n",
    "import matplotlib.pyplot as plt\n",
    "import seaborn as sns\n",
    "%matplotlib inline\n",
    "pd.set_option('display.max_rows', 200)\n",
    "pd.set_option('display.max_columns', 200)\n",
    "plt.style.use('ggplot')\n",
    "\n",
    "\n",
    "# Import LogisticRegression\n",
    "from sklearn.linear_model import LogisticRegression\n",
    "\n",
    "from sklearn.model_selection import train_test_split\n",
    "from sklearn.model_selection import GridSearchCV\n",
    "from sklearn.feature_selection import SelectFromModel\n",
    "from sklearn.metrics import classification_report\n",
    "from sklearn.metrics import confusion_matrix\n",
    "from sklearn.metrics import accuracy_score\n",
    "from sklearn.metrics import roc_curve, auc"
   ]
  },
  {
   "cell_type": "markdown",
   "metadata": {},
   "source": [
    "## Import Dataset"
   ]
  },
  {
   "cell_type": "code",
   "execution_count": 4,
   "metadata": {},
   "outputs": [
    {
     "name": "stdout",
     "output_type": "stream",
     "text": [
      "<class 'pandas.core.frame.DataFrame'>\n",
      "RangeIndex: 2974335 entries, 0 to 2974334\n",
      "Data columns (total 49 columns):\n",
      " #   Column                 Dtype  \n",
      "---  ------                 -----  \n",
      " 0   ID                     object \n",
      " 1   Source                 object \n",
      " 2   TMC                    float64\n",
      " 3   Severity               int64  \n",
      " 4   Start_Time             object \n",
      " 5   End_Time               object \n",
      " 6   Start_Lat              float64\n",
      " 7   Start_Lng              float64\n",
      " 8   End_Lat                float64\n",
      " 9   End_Lng                float64\n",
      " 10  Distance(mi)           float64\n",
      " 11  Description            object \n",
      " 12  Number                 float64\n",
      " 13  Street                 object \n",
      " 14  Side                   object \n",
      " 15  City                   object \n",
      " 16  County                 object \n",
      " 17  State                  object \n",
      " 18  Zipcode                object \n",
      " 19  Country                object \n",
      " 20  Timezone               object \n",
      " 21  Airport_Code           object \n",
      " 22  Weather_Timestamp      object \n",
      " 23  Temperature(F)         float64\n",
      " 24  Wind_Chill(F)          float64\n",
      " 25  Humidity(%)            float64\n",
      " 26  Pressure(in)           float64\n",
      " 27  Visibility(mi)         float64\n",
      " 28  Wind_Direction         object \n",
      " 29  Wind_Speed(mph)        float64\n",
      " 30  Precipitation(in)      float64\n",
      " 31  Weather_Condition      object \n",
      " 32  Amenity                bool   \n",
      " 33  Bump                   bool   \n",
      " 34  Crossing               bool   \n",
      " 35  Give_Way               bool   \n",
      " 36  Junction               bool   \n",
      " 37  No_Exit                bool   \n",
      " 38  Railway                bool   \n",
      " 39  Roundabout             bool   \n",
      " 40  Station                bool   \n",
      " 41  Stop                   bool   \n",
      " 42  Traffic_Calming        bool   \n",
      " 43  Traffic_Signal         bool   \n",
      " 44  Turning_Loop           bool   \n",
      " 45  Sunrise_Sunset         object \n",
      " 46  Civil_Twilight         object \n",
      " 47  Nautical_Twilight      object \n",
      " 48  Astronomical_Twilight  object \n",
      "dtypes: bool(13), float64(14), int64(1), object(21)\n",
      "memory usage: 853.8+ MB\n"
     ]
    }
   ],
   "source": [
    "df = pd.read_csv(r'C:\\Users\\svudu\\Desktop\\US_Accidents_Dec19.csv')\n",
    "df.info()"
   ]
  },
  {
   "cell_type": "markdown",
   "metadata": {},
   "source": [
    "### Extract year, month, day, hour, weekday, and time to clear accidents"
   ]
  },
  {
   "cell_type": "code",
   "execution_count": 5,
   "metadata": {},
   "outputs": [
    {
     "name": "stdout",
     "output_type": "stream",
     "text": [
      "<class 'pandas.core.frame.DataFrame'>\n",
      "RangeIndex: 2974335 entries, 0 to 2974334\n",
      "Data columns (total 55 columns):\n",
      " #   Column                 Dtype         \n",
      "---  ------                 -----         \n",
      " 0   ID                     object        \n",
      " 1   Source                 object        \n",
      " 2   TMC                    float64       \n",
      " 3   Severity               int64         \n",
      " 4   Start_Time             datetime64[ns]\n",
      " 5   End_Time               datetime64[ns]\n",
      " 6   Start_Lat              float64       \n",
      " 7   Start_Lng              float64       \n",
      " 8   End_Lat                float64       \n",
      " 9   End_Lng                float64       \n",
      " 10  Distance(mi)           float64       \n",
      " 11  Description            object        \n",
      " 12  Number                 float64       \n",
      " 13  Street                 object        \n",
      " 14  Side                   object        \n",
      " 15  City                   object        \n",
      " 16  County                 object        \n",
      " 17  State                  object        \n",
      " 18  Zipcode                object        \n",
      " 19  Country                object        \n",
      " 20  Timezone               object        \n",
      " 21  Airport_Code           object        \n",
      " 22  Weather_Timestamp      object        \n",
      " 23  Temperature(F)         float64       \n",
      " 24  Wind_Chill(F)          float64       \n",
      " 25  Humidity(%)            float64       \n",
      " 26  Pressure(in)           float64       \n",
      " 27  Visibility(mi)         float64       \n",
      " 28  Wind_Direction         object        \n",
      " 29  Wind_Speed(mph)        float64       \n",
      " 30  Precipitation(in)      float64       \n",
      " 31  Weather_Condition      object        \n",
      " 32  Amenity                bool          \n",
      " 33  Bump                   bool          \n",
      " 34  Crossing               bool          \n",
      " 35  Give_Way               bool          \n",
      " 36  Junction               bool          \n",
      " 37  No_Exit                bool          \n",
      " 38  Railway                bool          \n",
      " 39  Roundabout             bool          \n",
      " 40  Station                bool          \n",
      " 41  Stop                   bool          \n",
      " 42  Traffic_Calming        bool          \n",
      " 43  Traffic_Signal         bool          \n",
      " 44  Turning_Loop           bool          \n",
      " 45  Sunrise_Sunset         object        \n",
      " 46  Civil_Twilight         object        \n",
      " 47  Nautical_Twilight      object        \n",
      " 48  Astronomical_Twilight  object        \n",
      " 49  Year                   int64         \n",
      " 50  Month                  object        \n",
      " 51  Day                    int64         \n",
      " 52  Hour                   int64         \n",
      " 53  Weekday                object        \n",
      " 54  Time_Duration(min)     float64       \n",
      "dtypes: bool(13), datetime64[ns](2), float64(15), int64(4), object(21)\n",
      "memory usage: 990.0+ MB\n"
     ]
    }
   ],
   "source": [
    "# Convert Start_Time and End_Time to datetypes\n",
    "df['Start_Time'] = pd.to_datetime(df['Start_Time'], errors='coerce')\n",
    "df['End_Time'] = pd.to_datetime(df['End_Time'], errors='coerce')\n",
    "\n",
    "# Extract year, month, day, hour and weekday\n",
    "df['Year']=df['Start_Time'].dt.year\n",
    "df['Month']=df['Start_Time'].dt.strftime('%b')\n",
    "df['Day']=df['Start_Time'].dt.day\n",
    "df['Hour']=df['Start_Time'].dt.hour\n",
    "df['Weekday']=df['Start_Time'].dt.strftime('%a')\n",
    "\n",
    "# Extract the amount of time in the unit of minutes for each accident, round to the nearest integer\n",
    "td='Time_Duration(min)'\n",
    "df[td]=round((df['End_Time']-df['Start_Time'])/np.timedelta64(1,'m'))\n",
    "df.info()"
   ]
  },
  {
   "cell_type": "code",
   "execution_count": 6,
   "metadata": {},
   "outputs": [
    {
     "data": {
      "text/plain": [
       "69719      -0.0\n",
       "69720      -0.0\n",
       "69721      -0.0\n",
       "69722      -1.0\n",
       "69723      -1.0\n",
       "309387    -30.0\n",
       "309388    -30.0\n",
       "628436    -12.0\n",
       "628472    -31.0\n",
       "628489     -0.0\n",
       "628923    -14.0\n",
       "628942     -0.0\n",
       "628943    -30.0\n",
       "1265261   -30.0\n",
       "1265262   -31.0\n",
       "2002026   -30.0\n",
       "2002111   -30.0\n",
       "2002112   -31.0\n",
       "2565229   -34.0\n",
       "2565705    -7.0\n",
       "2565708    -7.0\n",
       "2693474   -31.0\n",
       "Name: Time_Duration(min), dtype: float64"
      ]
     },
     "execution_count": 6,
     "metadata": {},
     "output_type": "execute_result"
    }
   ],
   "source": [
    "# Check if there is any negative time_duration values\n",
    "df[td][df[td]<=0]"
   ]
  },
  {
   "cell_type": "code",
   "execution_count": 7,
   "metadata": {},
   "outputs": [
    {
     "name": "stdout",
     "output_type": "stream",
     "text": [
      "<class 'pandas.core.frame.DataFrame'>\n",
      "Int64Index: 2974313 entries, 0 to 2974334\n",
      "Data columns (total 55 columns):\n",
      " #   Column                 Dtype         \n",
      "---  ------                 -----         \n",
      " 0   ID                     object        \n",
      " 1   Source                 object        \n",
      " 2   TMC                    float64       \n",
      " 3   Severity               float64       \n",
      " 4   Start_Time             datetime64[ns]\n",
      " 5   End_Time               datetime64[ns]\n",
      " 6   Start_Lat              float64       \n",
      " 7   Start_Lng              float64       \n",
      " 8   End_Lat                float64       \n",
      " 9   End_Lng                float64       \n",
      " 10  Distance(mi)           float64       \n",
      " 11  Description            object        \n",
      " 12  Number                 float64       \n",
      " 13  Street                 object        \n",
      " 14  Side                   object        \n",
      " 15  City                   object        \n",
      " 16  County                 object        \n",
      " 17  State                  object        \n",
      " 18  Zipcode                object        \n",
      " 19  Country                object        \n",
      " 20  Timezone               object        \n",
      " 21  Airport_Code           object        \n",
      " 22  Weather_Timestamp      object        \n",
      " 23  Temperature(F)         float64       \n",
      " 24  Wind_Chill(F)          float64       \n",
      " 25  Humidity(%)            float64       \n",
      " 26  Pressure(in)           float64       \n",
      " 27  Visibility(mi)         float64       \n",
      " 28  Wind_Direction         object        \n",
      " 29  Wind_Speed(mph)        float64       \n",
      " 30  Precipitation(in)      float64       \n",
      " 31  Weather_Condition      object        \n",
      " 32  Amenity                float64       \n",
      " 33  Bump                   float64       \n",
      " 34  Crossing               float64       \n",
      " 35  Give_Way               float64       \n",
      " 36  Junction               float64       \n",
      " 37  No_Exit                float64       \n",
      " 38  Railway                float64       \n",
      " 39  Roundabout             float64       \n",
      " 40  Station                float64       \n",
      " 41  Stop                   float64       \n",
      " 42  Traffic_Calming        float64       \n",
      " 43  Traffic_Signal         float64       \n",
      " 44  Turning_Loop           float64       \n",
      " 45  Sunrise_Sunset         object        \n",
      " 46  Civil_Twilight         object        \n",
      " 47  Nautical_Twilight      object        \n",
      " 48  Astronomical_Twilight  object        \n",
      " 49  Year                   float64       \n",
      " 50  Month                  object        \n",
      " 51  Day                    float64       \n",
      " 52  Hour                   float64       \n",
      " 53  Weekday                object        \n",
      " 54  Time_Duration(min)     float64       \n",
      "dtypes: datetime64[ns](2), float64(32), object(21)\n",
      "memory usage: 1.2+ GB\n"
     ]
    }
   ],
   "source": [
    "#Drop the rows with td<0\n",
    "\n",
    "neg_outliers=df[td]<=0\n",
    "\n",
    "# Set outliers to NAN\n",
    "df[neg_outliers] = np.nan\n",
    "\n",
    "# Drop rows with negative td\n",
    "df.dropna(subset=[td],axis=0,inplace=True)\n",
    "df.info()"
   ]
  },
  {
   "cell_type": "markdown",
   "metadata": {},
   "source": [
    "#### Deal with outliers\n",
    "B. Fill outliers with median values"
   ]
  },
  {
   "cell_type": "code",
   "execution_count": 8,
   "metadata": {},
   "outputs": [
    {
     "name": "stdout",
     "output_type": "stream",
     "text": [
      "<class 'pandas.core.frame.DataFrame'>\n",
      "Int64Index: 2974313 entries, 0 to 2974334\n",
      "Data columns (total 55 columns):\n",
      " #   Column                 Dtype         \n",
      "---  ------                 -----         \n",
      " 0   ID                     object        \n",
      " 1   Source                 object        \n",
      " 2   TMC                    float64       \n",
      " 3   Severity               float64       \n",
      " 4   Start_Time             datetime64[ns]\n",
      " 5   End_Time               datetime64[ns]\n",
      " 6   Start_Lat              float64       \n",
      " 7   Start_Lng              float64       \n",
      " 8   End_Lat                float64       \n",
      " 9   End_Lng                float64       \n",
      " 10  Distance(mi)           float64       \n",
      " 11  Description            object        \n",
      " 12  Number                 float64       \n",
      " 13  Street                 object        \n",
      " 14  Side                   object        \n",
      " 15  City                   object        \n",
      " 16  County                 object        \n",
      " 17  State                  object        \n",
      " 18  Zipcode                object        \n",
      " 19  Country                object        \n",
      " 20  Timezone               object        \n",
      " 21  Airport_Code           object        \n",
      " 22  Weather_Timestamp      object        \n",
      " 23  Temperature(F)         float64       \n",
      " 24  Wind_Chill(F)          float64       \n",
      " 25  Humidity(%)            float64       \n",
      " 26  Pressure(in)           float64       \n",
      " 27  Visibility(mi)         float64       \n",
      " 28  Wind_Direction         object        \n",
      " 29  Wind_Speed(mph)        float64       \n",
      " 30  Precipitation(in)      float64       \n",
      " 31  Weather_Condition      object        \n",
      " 32  Amenity                float64       \n",
      " 33  Bump                   float64       \n",
      " 34  Crossing               float64       \n",
      " 35  Give_Way               float64       \n",
      " 36  Junction               float64       \n",
      " 37  No_Exit                float64       \n",
      " 38  Railway                float64       \n",
      " 39  Roundabout             float64       \n",
      " 40  Station                float64       \n",
      " 41  Stop                   float64       \n",
      " 42  Traffic_Calming        float64       \n",
      " 43  Traffic_Signal         float64       \n",
      " 44  Turning_Loop           float64       \n",
      " 45  Sunrise_Sunset         object        \n",
      " 46  Civil_Twilight         object        \n",
      " 47  Nautical_Twilight      object        \n",
      " 48  Astronomical_Twilight  object        \n",
      " 49  Year                   float64       \n",
      " 50  Month                  object        \n",
      " 51  Day                    float64       \n",
      " 52  Hour                   float64       \n",
      " 53  Weekday                object        \n",
      " 54  Time_Duration(min)     float64       \n",
      "dtypes: datetime64[ns](2), float64(32), object(21)\n",
      "memory usage: 1.2+ GB\n"
     ]
    }
   ],
   "source": [
    "# Remove outliers for Time_Duration(min): n * standard_deviation (n=3), backfill with median\n",
    "\n",
    "n=3\n",
    "\n",
    "median = df[td].median()\n",
    "std = df[td].std()\n",
    "outliers = (df[td] - median).abs() > std*n\n",
    "\n",
    "# Set outliers to NAN\n",
    "df[outliers] = np.nan\n",
    "\n",
    "# Fill NAN with median\n",
    "df[td].fillna(median, inplace=True)\n",
    "\n",
    "df.info()"
   ]
  },
  {
   "cell_type": "code",
   "execution_count": 9,
   "metadata": {},
   "outputs": [
    {
     "name": "stdout",
     "output_type": "stream",
     "text": [
      "Max time to clear an accident: 11080.0 minutes or 185.0 hours or 8.0 days; Min to clear an accident td: 1.0 minutes.\n"
     ]
    }
   ],
   "source": [
    "# Print time_duration information\n",
    "print('Max time to clear an accident: {} minutes or {} hours or {} days; Min to clear an accident td: {} minutes.'.format(df[td].max(),round(df[td].max()/60), round(df[td].max()/60/24), df[td].min()))"
   ]
  },
  {
   "cell_type": "markdown",
   "metadata": {},
   "source": [
    "## Select list of featurs for ML Algorithms"
   ]
  },
  {
   "cell_type": "code",
   "execution_count": 11,
   "metadata": {},
   "outputs": [],
   "source": [
    "feature_lst=['Source','TMC','Severity','Start_Lng','Start_Lat','Distance(mi)','Side','City','County','State','Timezone','Temperature(F)','Humidity(%)','Pressure(in)', 'Visibility(mi)', 'Wind_Direction','Weather_Condition','Amenity','Bump','Crossing','Give_Way','Junction','No_Exit','Railway','Roundabout','Station','Stop','Traffic_Calming','Traffic_Signal','Turning_Loop','Sunrise_Sunset','Hour','Weekday', 'Time_Duration(min)']"
   ]
  },
  {
   "cell_type": "code",
   "execution_count": 12,
   "metadata": {},
   "outputs": [
    {
     "name": "stdout",
     "output_type": "stream",
     "text": [
      "<class 'pandas.core.frame.DataFrame'>\n",
      "Int64Index: 2974313 entries, 0 to 2974334\n",
      "Data columns (total 34 columns):\n",
      " #   Column              Dtype  \n",
      "---  ------              -----  \n",
      " 0   Source              object \n",
      " 1   TMC                 float64\n",
      " 2   Severity            float64\n",
      " 3   Start_Lng           float64\n",
      " 4   Start_Lat           float64\n",
      " 5   Distance(mi)        float64\n",
      " 6   Side                object \n",
      " 7   City                object \n",
      " 8   County              object \n",
      " 9   State               object \n",
      " 10  Timezone            object \n",
      " 11  Temperature(F)      float64\n",
      " 12  Humidity(%)         float64\n",
      " 13  Pressure(in)        float64\n",
      " 14  Visibility(mi)      float64\n",
      " 15  Wind_Direction      object \n",
      " 16  Weather_Condition   object \n",
      " 17  Amenity             float64\n",
      " 18  Bump                float64\n",
      " 19  Crossing            float64\n",
      " 20  Give_Way            float64\n",
      " 21  Junction            float64\n",
      " 22  No_Exit             float64\n",
      " 23  Railway             float64\n",
      " 24  Roundabout          float64\n",
      " 25  Station             float64\n",
      " 26  Stop                float64\n",
      " 27  Traffic_Calming     float64\n",
      " 28  Traffic_Signal      float64\n",
      " 29  Turning_Loop        float64\n",
      " 30  Sunrise_Sunset      object \n",
      " 31  Hour                float64\n",
      " 32  Weekday             object \n",
      " 33  Time_Duration(min)  float64\n",
      "dtypes: float64(24), object(10)\n",
      "memory usage: 794.2+ MB\n"
     ]
    }
   ],
   "source": [
    "# Select the dataset to include only the selected features\n",
    "df_sel=df[feature_lst].copy()\n",
    "df_sel.info()\n"
   ]
  },
  {
   "cell_type": "markdown",
   "metadata": {},
   "source": [
    "### Drop rows with missing values"
   ]
  },
  {
   "cell_type": "code",
   "execution_count": 13,
   "metadata": {},
   "outputs": [
    {
     "data": {
      "text/plain": [
       "Source                0.000196\n",
       "TMC                   0.244799\n",
       "Severity              0.000196\n",
       "Start_Lng             0.000196\n",
       "Start_Lat             0.000196\n",
       "Distance(mi)          0.000196\n",
       "Side                  0.000196\n",
       "City                  0.000224\n",
       "County                0.000196\n",
       "State                 0.000196\n",
       "Timezone              0.001259\n",
       "Temperature(F)        0.019033\n",
       "Humidity(%)           0.020079\n",
       "Pressure(in)          0.016372\n",
       "Visibility(mi)        0.022271\n",
       "Wind_Direction        0.015352\n",
       "Weather_Condition     0.022353\n",
       "Amenity               0.000196\n",
       "Bump                  0.000196\n",
       "Crossing              0.000196\n",
       "Give_Way              0.000196\n",
       "Junction              0.000196\n",
       "No_Exit               0.000196\n",
       "Railway               0.000196\n",
       "Roundabout            0.000196\n",
       "Station               0.000196\n",
       "Stop                  0.000196\n",
       "Traffic_Calming       0.000196\n",
       "Traffic_Signal        0.000196\n",
       "Turning_Loop          0.000196\n",
       "Sunrise_Sunset        0.000227\n",
       "Hour                  0.000196\n",
       "Weekday               0.000196\n",
       "Time_Duration(min)    0.000000\n",
       "dtype: float64"
      ]
     },
     "execution_count": 13,
     "metadata": {},
     "output_type": "execute_result"
    }
   ],
   "source": [
    "# Check missing values\n",
    "df_sel.isnull().mean()"
   ]
  },
  {
   "cell_type": "code",
   "execution_count": 14,
   "metadata": {},
   "outputs": [
    {
     "data": {
      "text/plain": [
       "(2974313, 34)"
      ]
     },
     "execution_count": 14,
     "metadata": {},
     "output_type": "execute_result"
    }
   ],
   "source": [
    "df_sel.shape"
   ]
  },
  {
   "cell_type": "code",
   "execution_count": 15,
   "metadata": {},
   "outputs": [
    {
     "data": {
      "text/plain": [
       "(2181347, 34)"
      ]
     },
     "execution_count": 15,
     "metadata": {},
     "output_type": "execute_result"
    }
   ],
   "source": [
    "df_sel.dropna(subset=df_sel.columns[df_sel.isnull().mean()!=0], how='any', axis=0, inplace=True)\n",
    "df_sel.shape"
   ]
  },
  {
   "cell_type": "markdown",
   "metadata": {},
   "source": [
    "### Select the state of interest: Georgia"
   ]
  },
  {
   "cell_type": "code",
   "execution_count": 16,
   "metadata": {},
   "outputs": [
    {
     "name": "stdout",
     "output_type": "stream",
     "text": [
      "<class 'pandas.core.frame.DataFrame'>\n",
      "Int64Index: 62277 entries, 146260 to 2245027\n",
      "Data columns (total 33 columns):\n",
      " #   Column              Non-Null Count  Dtype  \n",
      "---  ------              --------------  -----  \n",
      " 0   Source              62277 non-null  object \n",
      " 1   TMC                 62277 non-null  float64\n",
      " 2   Severity            62277 non-null  float64\n",
      " 3   Start_Lng           62277 non-null  float64\n",
      " 4   Start_Lat           62277 non-null  float64\n",
      " 5   Distance(mi)        62277 non-null  float64\n",
      " 6   Side                62277 non-null  object \n",
      " 7   City                62277 non-null  object \n",
      " 8   County              62277 non-null  object \n",
      " 9   Timezone            62277 non-null  object \n",
      " 10  Temperature(F)      62277 non-null  float64\n",
      " 11  Humidity(%)         62277 non-null  float64\n",
      " 12  Pressure(in)        62277 non-null  float64\n",
      " 13  Visibility(mi)      62277 non-null  float64\n",
      " 14  Wind_Direction      62277 non-null  object \n",
      " 15  Weather_Condition   62277 non-null  object \n",
      " 16  Amenity             62277 non-null  float64\n",
      " 17  Bump                62277 non-null  float64\n",
      " 18  Crossing            62277 non-null  float64\n",
      " 19  Give_Way            62277 non-null  float64\n",
      " 20  Junction            62277 non-null  float64\n",
      " 21  No_Exit             62277 non-null  float64\n",
      " 22  Railway             62277 non-null  float64\n",
      " 23  Roundabout          62277 non-null  float64\n",
      " 24  Station             62277 non-null  float64\n",
      " 25  Stop                62277 non-null  float64\n",
      " 26  Traffic_Calming     62277 non-null  float64\n",
      " 27  Traffic_Signal      62277 non-null  float64\n",
      " 28  Turning_Loop        62277 non-null  float64\n",
      " 29  Sunrise_Sunset      62277 non-null  object \n",
      " 30  Hour                62277 non-null  float64\n",
      " 31  Weekday             62277 non-null  object \n",
      " 32  Time_Duration(min)  62277 non-null  float64\n",
      "dtypes: float64(24), object(9)\n",
      "memory usage: 16.2+ MB\n"
     ]
    }
   ],
   "source": [
    "state='GA'\n",
    "\n",
    "# Select the state of Pennsylvania\n",
    "df_state=df_sel.loc[df_sel.State==state].copy()\n",
    "df_state.drop('State',axis=1, inplace=True)\n",
    "df_state.info()"
   ]
  },
  {
   "cell_type": "code",
   "execution_count": 17,
   "metadata": {},
   "outputs": [
    {
     "name": "stdout",
     "output_type": "stream",
     "text": [
      "<class 'pandas.core.frame.DataFrame'>\n",
      "Int64Index: 62277 entries, 146260 to 2245027\n",
      "Columns: 659 entries, TMC to Weekday_Wed\n",
      "dtypes: float64(24), uint8(635)\n",
      "memory usage: 49.6 MB\n"
     ]
    }
   ],
   "source": [
    "df_state_dummy = pd.get_dummies(df_state,drop_first=True)\n",
    "\n",
    "\n",
    "df_state_dummy.info()"
   ]
  },
  {
   "cell_type": "markdown",
   "metadata": {},
   "source": [
    "### Predict accident severity with supervised ML algorithms"
   ]
  },
  {
   "cell_type": "code",
   "execution_count": 18,
   "metadata": {},
   "outputs": [],
   "source": [
    "# Assign the data\n",
    "df=df_state_dummy\n",
    "\n",
    "# Set the target for the prediction\n",
    "target='Severity'\n",
    "\n",
    "\n",
    "# Create arrays for the features and the response variable\n",
    "\n",
    "# set X and y\n",
    "y = df[target]\n",
    "X = df.drop(target, axis=1)\n",
    "\n",
    "# Split the data set into training and testing data sets\n",
    "X_train, X_test, y_train, y_test = train_test_split(X, y, test_size=0.2, random_state=21, stratify=y)"
   ]
  },
  {
   "cell_type": "code",
   "execution_count": 19,
   "metadata": {},
   "outputs": [],
   "source": [
    "# Initialize an empty list for the accuracy for each algorithm\n",
    "accuracy_lst=[]"
   ]
  },
  {
   "cell_type": "code",
   "execution_count": 20,
   "metadata": {},
   "outputs": [
    {
     "name": "stdout",
     "output_type": "stream",
     "text": [
      "[Logistic regression algorithm] accuracy_score: 0.758.\n"
     ]
    },
    {
     "name": "stderr",
     "output_type": "stream",
     "text": [
      "c:\\python36\\lib\\site-packages\\sklearn\\linear_model\\_logistic.py:940: ConvergenceWarning: lbfgs failed to converge (status=1):\n",
      "STOP: TOTAL NO. of ITERATIONS REACHED LIMIT.\n",
      "\n",
      "Increase the number of iterations (max_iter) or scale the data as shown in:\n",
      "    https://scikit-learn.org/stable/modules/preprocessing.html\n",
      "Please also refer to the documentation for alternative solver options:\n",
      "    https://scikit-learn.org/stable/modules/linear_model.html#logistic-regression\n",
      "  extra_warning_msg=_LOGISTIC_SOLVER_CONVERGENCE_MSG)\n"
     ]
    }
   ],
   "source": [
    "# Logistic regression\n",
    "lr = LogisticRegression(random_state=0)\n",
    "lr.fit(X_train,y_train)\n",
    "y_pred=lr.predict(X_test)\n",
    "\n",
    "# Get the accuracy score\n",
    "acc=accuracy_score(y_test, y_pred)\n",
    "\n",
    "# Append to the accuracy list\n",
    "accuracy_lst.append(acc)\n",
    "\n",
    "print(\"[Logistic regression algorithm] accuracy_score: {:.3f}.\".format(acc))"
   ]
  },
  {
   "cell_type": "code",
   "execution_count": null,
   "metadata": {},
   "outputs": [],
   "source": []
  }
 ],
 "metadata": {
  "kernelspec": {
   "display_name": "Python 3",
   "language": "python",
   "name": "python3"
  },
  "language_info": {
   "codemirror_mode": {
    "name": "ipython",
    "version": 3
   },
   "file_extension": ".py",
   "mimetype": "text/x-python",
   "name": "python",
   "nbconvert_exporter": "python",
   "pygments_lexer": "ipython3",
   "version": "3.6.8"
  }
 },
 "nbformat": 4,
 "nbformat_minor": 4
}
