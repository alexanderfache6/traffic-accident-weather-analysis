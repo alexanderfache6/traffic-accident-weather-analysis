{
 "cells": [
  {
   "cell_type": "markdown",
   "metadata": {},
   "source": [
    "# Module 2 - Supervised Learning - Decision Trees"
   ]
  },
  {
   "cell_type": "markdown",
   "metadata": {},
   "source": [
    "---\n",
    "\n",
    "## Imports"
   ]
  },
  {
   "cell_type": "code",
   "execution_count": 18,
   "metadata": {},
   "outputs": [],
   "source": [
    "import matplotlib.pyplot as plt\n",
    "import numpy as np\n",
    "import os\n",
    "import pandas as pd\n",
    "import seaborn as sb\n",
    "from sklearn.model_selection import train_test_split\n",
    "from sklearn.experimental import enable_hist_gradient_boosting\n",
    "from sklearn.ensemble import HistGradientBoostingClassifier\n",
    "from sklearn.ensemble import GradientBoostingClassifier\n",
    "from sklearn.metrics import confusion_matrix\n",
    "from sklearn.metrics import accuracy_score, precision_score, f1_score\n",
    "import time\n",
    "\n",
    "%matplotlib inline"
   ]
  },
  {
   "cell_type": "markdown",
   "metadata": {},
   "source": [
    "---\n",
    "\n",
    "## Load Data"
   ]
  },
  {
   "cell_type": "code",
   "execution_count": 2,
   "metadata": {},
   "outputs": [
    {
     "name": "stdout",
     "output_type": "stream",
     "text": [
      "(83620, 49)\n",
      "(83620, 1)\n"
     ]
    }
   ],
   "source": [
    "state = 'GA'\n",
    "\n",
    "current_dir = os.getcwd()\n",
    "load_dir = current_dir + '/module1_data/' + state\n",
    "\n",
    "#uncomment 1\n",
    "# data = 'Xstate_f194.npy' #original\n",
    "# data = 'Xforest_f102.npy' #random forest feature importance\n",
    "data = 'Xpca_f194_c049_v9713.npy' #principal components\n",
    "\n",
    "X = np.load(load_dir + '/' + data)\n",
    "print(X.shape)\n",
    "\n",
    "y = np.load(load_dir + '/ystate.npy')\n",
    "y = y - 1\n",
    "print(y.shape)"
   ]
  },
  {
   "cell_type": "code",
   "execution_count": 3,
   "metadata": {},
   "outputs": [
    {
     "name": "stdout",
     "output_type": "stream",
     "text": [
      "X train: (58533, 49)\n",
      "y train: (58533, 1)\n",
      "X test:  (25086, 49)\n",
      "y test:  (25086, 1)\n"
     ]
    }
   ],
   "source": [
    "#DO NOT CHANGE\n",
    "\n",
    "#split into training and test sets\n",
    "\n",
    "X_train, X_test, y_train, y_test = train_test_split(X, y, test_size=0.30, train_size=0.70, random_state=0, shuffle=True)\n",
    "\n",
    "print('X train:', X_train.shape)\n",
    "print('y train:', y_train.shape)\n",
    "print('X test: ', X_test.shape)\n",
    "print('y test: ', y_test.shape)"
   ]
  },
  {
   "cell_type": "markdown",
   "metadata": {},
   "source": [
    "---\n",
    "\n",
    "## Decision Trees"
   ]
  },
  {
   "cell_type": "markdown",
   "metadata": {},
   "source": [
    "### Setup"
   ]
  },
  {
   "cell_type": "code",
   "execution_count": 11,
   "metadata": {},
   "outputs": [],
   "source": [
    "#Setup Classifier, with parameters\n",
    "gbdt = HistGradientBoostingClassifier(loss='categorical_crossentropy',min_samples_leaf=50,max_depth=8,learning_rate=0.05,max_iter=1000).fit(X_train, np.ravel(y_train))"
   ]
  },
  {
   "cell_type": "markdown",
   "metadata": {},
   "source": [
    "### Test Set"
   ]
  },
  {
   "cell_type": "code",
   "execution_count": 26,
   "metadata": {},
   "outputs": [
    {
     "data": {
      "text/html": [
       "<style  type=\"text/css\" >\n",
       "    #T_a446cc32_7b5e_11ea_9343_acbc3299ac9brow0_col0 {\n",
       "            background-color:  #0000ff;\n",
       "            color:  #f1f1f1;\n",
       "        }    #T_a446cc32_7b5e_11ea_9343_acbc3299ac9brow0_col1 {\n",
       "            background-color:  #e5e5ff;\n",
       "            color:  #000000;\n",
       "        }    #T_a446cc32_7b5e_11ea_9343_acbc3299ac9brow0_col2 {\n",
       "            background-color:  #e5e5ff;\n",
       "            color:  #000000;\n",
       "        }    #T_a446cc32_7b5e_11ea_9343_acbc3299ac9brow0_col3 {\n",
       "            background-color:  #e5e5ff;\n",
       "            color:  #000000;\n",
       "        }    #T_a446cc32_7b5e_11ea_9343_acbc3299ac9brow1_col0 {\n",
       "            background-color:  #e5e5ff;\n",
       "            color:  #000000;\n",
       "        }    #T_a446cc32_7b5e_11ea_9343_acbc3299ac9brow1_col1 {\n",
       "            background-color:  #0000ff;\n",
       "            color:  #f1f1f1;\n",
       "        }    #T_a446cc32_7b5e_11ea_9343_acbc3299ac9brow1_col2 {\n",
       "            background-color:  #dedeff;\n",
       "            color:  #000000;\n",
       "        }    #T_a446cc32_7b5e_11ea_9343_acbc3299ac9brow1_col3 {\n",
       "            background-color:  #e5e5ff;\n",
       "            color:  #000000;\n",
       "        }    #T_a446cc32_7b5e_11ea_9343_acbc3299ac9brow2_col0 {\n",
       "            background-color:  #e5e5ff;\n",
       "            color:  #000000;\n",
       "        }    #T_a446cc32_7b5e_11ea_9343_acbc3299ac9brow2_col1 {\n",
       "            background-color:  #e3e3ff;\n",
       "            color:  #000000;\n",
       "        }    #T_a446cc32_7b5e_11ea_9343_acbc3299ac9brow2_col2 {\n",
       "            background-color:  #0000ff;\n",
       "            color:  #f1f1f1;\n",
       "        }    #T_a446cc32_7b5e_11ea_9343_acbc3299ac9brow2_col3 {\n",
       "            background-color:  #e5e5ff;\n",
       "            color:  #000000;\n",
       "        }    #T_a446cc32_7b5e_11ea_9343_acbc3299ac9brow3_col0 {\n",
       "            background-color:  #e5e5ff;\n",
       "            color:  #000000;\n",
       "        }    #T_a446cc32_7b5e_11ea_9343_acbc3299ac9brow3_col1 {\n",
       "            background-color:  #e5e5ff;\n",
       "            color:  #000000;\n",
       "        }    #T_a446cc32_7b5e_11ea_9343_acbc3299ac9brow3_col2 {\n",
       "            background-color:  #e5e5ff;\n",
       "            color:  #000000;\n",
       "        }    #T_a446cc32_7b5e_11ea_9343_acbc3299ac9brow3_col3 {\n",
       "            background-color:  #0000ff;\n",
       "            color:  #f1f1f1;\n",
       "        }</style><table id=\"T_a446cc32_7b5e_11ea_9343_acbc3299ac9b\" ><thead>    <tr>        <th class=\"blank level0\" ></th>        <th class=\"col_heading level0 col0\" >0</th>        <th class=\"col_heading level0 col1\" >1</th>        <th class=\"col_heading level0 col2\" >2</th>        <th class=\"col_heading level0 col3\" >3</th>    </tr></thead><tbody>\n",
       "                <tr>\n",
       "                        <th id=\"T_a446cc32_7b5e_11ea_9343_acbc3299ac9blevel0_row0\" class=\"row_heading level0 row0\" >0</th>\n",
       "                        <td id=\"T_a446cc32_7b5e_11ea_9343_acbc3299ac9brow0_col0\" class=\"data row0 col0\" >18</td>\n",
       "                        <td id=\"T_a446cc32_7b5e_11ea_9343_acbc3299ac9brow0_col1\" class=\"data row0 col1\" >0</td>\n",
       "                        <td id=\"T_a446cc32_7b5e_11ea_9343_acbc3299ac9brow0_col2\" class=\"data row0 col2\" >0</td>\n",
       "                        <td id=\"T_a446cc32_7b5e_11ea_9343_acbc3299ac9brow0_col3\" class=\"data row0 col3\" >0</td>\n",
       "            </tr>\n",
       "            <tr>\n",
       "                        <th id=\"T_a446cc32_7b5e_11ea_9343_acbc3299ac9blevel0_row1\" class=\"row_heading level0 row1\" >1</th>\n",
       "                        <td id=\"T_a446cc32_7b5e_11ea_9343_acbc3299ac9brow1_col0\" class=\"data row1 col0\" >0</td>\n",
       "                        <td id=\"T_a446cc32_7b5e_11ea_9343_acbc3299ac9brow1_col1\" class=\"data row1 col1\" >23193</td>\n",
       "                        <td id=\"T_a446cc32_7b5e_11ea_9343_acbc3299ac9brow1_col2\" class=\"data row1 col2\" >993</td>\n",
       "                        <td id=\"T_a446cc32_7b5e_11ea_9343_acbc3299ac9brow1_col3\" class=\"data row1 col3\" >18</td>\n",
       "            </tr>\n",
       "            <tr>\n",
       "                        <th id=\"T_a446cc32_7b5e_11ea_9343_acbc3299ac9blevel0_row2\" class=\"row_heading level0 row2\" >2</th>\n",
       "                        <td id=\"T_a446cc32_7b5e_11ea_9343_acbc3299ac9brow2_col0\" class=\"data row2 col0\" >0</td>\n",
       "                        <td id=\"T_a446cc32_7b5e_11ea_9343_acbc3299ac9brow2_col1\" class=\"data row2 col1\" >357</td>\n",
       "                        <td id=\"T_a446cc32_7b5e_11ea_9343_acbc3299ac9brow2_col2\" class=\"data row2 col2\" >29346</td>\n",
       "                        <td id=\"T_a446cc32_7b5e_11ea_9343_acbc3299ac9brow2_col3\" class=\"data row2 col3\" >20</td>\n",
       "            </tr>\n",
       "            <tr>\n",
       "                        <th id=\"T_a446cc32_7b5e_11ea_9343_acbc3299ac9blevel0_row3\" class=\"row_heading level0 row3\" >3</th>\n",
       "                        <td id=\"T_a446cc32_7b5e_11ea_9343_acbc3299ac9brow3_col0\" class=\"data row3 col0\" >0</td>\n",
       "                        <td id=\"T_a446cc32_7b5e_11ea_9343_acbc3299ac9brow3_col1\" class=\"data row3 col1\" >36</td>\n",
       "                        <td id=\"T_a446cc32_7b5e_11ea_9343_acbc3299ac9brow3_col2\" class=\"data row3 col2\" >29</td>\n",
       "                        <td id=\"T_a446cc32_7b5e_11ea_9343_acbc3299ac9brow3_col3\" class=\"data row3 col3\" >4523</td>\n",
       "            </tr>\n",
       "    </tbody></table>"
      ],
      "text/plain": [
       "<pandas.io.formats.style.Styler at 0x1a429b5410>"
      ]
     },
     "metadata": {},
     "output_type": "display_data"
    },
    {
     "name": "stdout",
     "output_type": "stream",
     "text": [
      "Accuracy Train: 0.9751763962209352\n",
      "Precision Train: [1.         0.98333757 0.96634615 0.99166849]\n",
      "F1 Train: [1.         0.97062147 0.97671864 0.98874194]\n"
     ]
    },
    {
     "data": {
      "text/html": [
       "<style  type=\"text/css\" >\n",
       "    #T_a44faa8c_7b5e_11ea_9343_acbc3299ac9brow0_col0 {\n",
       "            background-color:  #e5ffe5;\n",
       "            color:  #000000;\n",
       "        }    #T_a44faa8c_7b5e_11ea_9343_acbc3299ac9brow0_col1 {\n",
       "            background-color:  #e5ffe5;\n",
       "            color:  #000000;\n",
       "        }    #T_a44faa8c_7b5e_11ea_9343_acbc3299ac9brow0_col2 {\n",
       "            background-color:  #e5ffe5;\n",
       "            color:  #000000;\n",
       "        }    #T_a44faa8c_7b5e_11ea_9343_acbc3299ac9brow0_col3 {\n",
       "            background-color:  #e5ffe5;\n",
       "            color:  #000000;\n",
       "        }    #T_a44faa8c_7b5e_11ea_9343_acbc3299ac9brow1_col0 {\n",
       "            background-color:  #e5ffe5;\n",
       "            color:  #000000;\n",
       "        }    #T_a44faa8c_7b5e_11ea_9343_acbc3299ac9brow1_col1 {\n",
       "            background-color:  #008000;\n",
       "            color:  #f1f1f1;\n",
       "        }    #T_a44faa8c_7b5e_11ea_9343_acbc3299ac9brow1_col2 {\n",
       "            background-color:  #58b158;\n",
       "            color:  #000000;\n",
       "        }    #T_a44faa8c_7b5e_11ea_9343_acbc3299ac9brow1_col3 {\n",
       "            background-color:  #329c32;\n",
       "            color:  #000000;\n",
       "        }    #T_a44faa8c_7b5e_11ea_9343_acbc3299ac9brow2_col0 {\n",
       "            background-color:  #e5ffe5;\n",
       "            color:  #000000;\n",
       "        }    #T_a44faa8c_7b5e_11ea_9343_acbc3299ac9brow2_col1 {\n",
       "            background-color:  #2f9a2f;\n",
       "            color:  #000000;\n",
       "        }    #T_a44faa8c_7b5e_11ea_9343_acbc3299ac9brow2_col2 {\n",
       "            background-color:  #008000;\n",
       "            color:  #f1f1f1;\n",
       "        }    #T_a44faa8c_7b5e_11ea_9343_acbc3299ac9brow2_col3 {\n",
       "            background-color:  #45a645;\n",
       "            color:  #000000;\n",
       "        }    #T_a44faa8c_7b5e_11ea_9343_acbc3299ac9brow3_col0 {\n",
       "            background-color:  #e5ffe5;\n",
       "            color:  #000000;\n",
       "        }    #T_a44faa8c_7b5e_11ea_9343_acbc3299ac9brow3_col1 {\n",
       "            background-color:  #b8e6b8;\n",
       "            color:  #000000;\n",
       "        }    #T_a44faa8c_7b5e_11ea_9343_acbc3299ac9brow3_col2 {\n",
       "            background-color:  #d3f5d3;\n",
       "            color:  #000000;\n",
       "        }    #T_a44faa8c_7b5e_11ea_9343_acbc3299ac9brow3_col3 {\n",
       "            background-color:  #008000;\n",
       "            color:  #f1f1f1;\n",
       "        }</style><table id=\"T_a44faa8c_7b5e_11ea_9343_acbc3299ac9b\" ><thead>    <tr>        <th class=\"blank level0\" ></th>        <th class=\"col_heading level0 col0\" >0</th>        <th class=\"col_heading level0 col1\" >1</th>        <th class=\"col_heading level0 col2\" >2</th>        <th class=\"col_heading level0 col3\" >3</th>    </tr></thead><tbody>\n",
       "                <tr>\n",
       "                        <th id=\"T_a44faa8c_7b5e_11ea_9343_acbc3299ac9blevel0_row0\" class=\"row_heading level0 row0\" >0</th>\n",
       "                        <td id=\"T_a44faa8c_7b5e_11ea_9343_acbc3299ac9brow0_col0\" class=\"data row0 col0\" >0</td>\n",
       "                        <td id=\"T_a44faa8c_7b5e_11ea_9343_acbc3299ac9brow0_col1\" class=\"data row0 col1\" >2</td>\n",
       "                        <td id=\"T_a44faa8c_7b5e_11ea_9343_acbc3299ac9brow0_col2\" class=\"data row0 col2\" >7</td>\n",
       "                        <td id=\"T_a44faa8c_7b5e_11ea_9343_acbc3299ac9brow0_col3\" class=\"data row0 col3\" >0</td>\n",
       "            </tr>\n",
       "            <tr>\n",
       "                        <th id=\"T_a44faa8c_7b5e_11ea_9343_acbc3299ac9blevel0_row1\" class=\"row_heading level0 row1\" >1</th>\n",
       "                        <td id=\"T_a44faa8c_7b5e_11ea_9343_acbc3299ac9brow1_col0\" class=\"data row1 col0\" >0</td>\n",
       "                        <td id=\"T_a44faa8c_7b5e_11ea_9343_acbc3299ac9brow1_col1\" class=\"data row1 col1\" >4859</td>\n",
       "                        <td id=\"T_a44faa8c_7b5e_11ea_9343_acbc3299ac9brow1_col2\" class=\"data row1 col2\" >5285</td>\n",
       "                        <td id=\"T_a44faa8c_7b5e_11ea_9343_acbc3299ac9brow1_col3\" class=\"data row1 col3\" >257</td>\n",
       "            </tr>\n",
       "            <tr>\n",
       "                        <th id=\"T_a44faa8c_7b5e_11ea_9343_acbc3299ac9blevel0_row2\" class=\"row_heading level0 row2\" >2</th>\n",
       "                        <td id=\"T_a44faa8c_7b5e_11ea_9343_acbc3299ac9brow2_col0\" class=\"data row2 col0\" >0</td>\n",
       "                        <td id=\"T_a44faa8c_7b5e_11ea_9343_acbc3299ac9brow2_col1\" class=\"data row2 col1\" >3866</td>\n",
       "                        <td id=\"T_a44faa8c_7b5e_11ea_9343_acbc3299ac9brow2_col2\" class=\"data row2 col2\" >8573</td>\n",
       "                        <td id=\"T_a44faa8c_7b5e_11ea_9343_acbc3299ac9brow2_col3\" class=\"data row2 col3\" >230</td>\n",
       "            </tr>\n",
       "            <tr>\n",
       "                        <th id=\"T_a44faa8c_7b5e_11ea_9343_acbc3299ac9blevel0_row3\" class=\"row_heading level0 row3\" >3</th>\n",
       "                        <td id=\"T_a44faa8c_7b5e_11ea_9343_acbc3299ac9brow3_col0\" class=\"data row3 col0\" >0</td>\n",
       "                        <td id=\"T_a44faa8c_7b5e_11ea_9343_acbc3299ac9brow3_col1\" class=\"data row3 col1\" >963</td>\n",
       "                        <td id=\"T_a44faa8c_7b5e_11ea_9343_acbc3299ac9brow3_col2\" class=\"data row3 col2\" >715</td>\n",
       "                        <td id=\"T_a44faa8c_7b5e_11ea_9343_acbc3299ac9brow3_col3\" class=\"data row3 col3\" >329</td>\n",
       "            </tr>\n",
       "    </tbody></table>"
      ],
      "text/plain": [
       "<pandas.io.formats.style.Styler at 0x1a429be0d0>"
      ]
     },
     "metadata": {},
     "output_type": "display_data"
    },
    {
     "name": "stdout",
     "output_type": "stream",
     "text": [
      "Accuracy Test: 0.5485529777565176\n",
      "Precision Test: [0.         0.50144479 0.58799726 0.40318627]\n",
      "F1 Test: [0.         0.48369917 0.6292341  0.23308537]\n"
     ]
    },
    {
     "name": "stderr",
     "output_type": "stream",
     "text": [
      "/opt/anaconda3/lib/python3.7/site-packages/sklearn/metrics/classification.py:1437: UndefinedMetricWarning: Precision is ill-defined and being set to 0.0 in labels with no predicted samples.\n",
      "  'precision', 'predicted', average, warn_for)\n",
      "/opt/anaconda3/lib/python3.7/site-packages/sklearn/metrics/classification.py:1437: UndefinedMetricWarning: F-score is ill-defined and being set to 0.0 in labels with no predicted samples.\n",
      "  'precision', 'predicted', average, warn_for)\n"
     ]
    }
   ],
   "source": [
    "#confusion matrices:\n",
    "\n",
    "#train data\n",
    "y_pred1 = gbdt.predict(X_train)\n",
    "\n",
    "#test data\n",
    "y_pred2 = gbdt.predict(X_test)\n",
    "\n",
    "cf_train = confusion_matrix(y_train,y_pred1)\n",
    "cf_test = confusion_matrix(y_test,y_pred2)\n",
    "\n",
    "cm1 = sb.light_palette(\"blue\", as_cmap=True)\n",
    "cm2 = sb.light_palette(\"green\", as_cmap=True)\n",
    "cf_train_plot = pd.DataFrame(cf_train)\n",
    "cf_test_plot = pd.DataFrame(cf_test)\n",
    "\n",
    "cf_train_plot = cf_train_plot.style.background_gradient(cmap=cm1)\n",
    "cf_test_plot = cf_test_plot.style.background_gradient(cmap=cm2)\n",
    "\n",
    "display(cf_train_plot)\n",
    "print(\"Accuracy Train:\",accuracy_score(y_train,y_pred1))\n",
    "print(\"Precision Train:\",precision_score(y_train,y_pred1,average=None))\n",
    "print(\"F1 Train:\", f1_score(y_train,y_pred1,average=None))\n",
    "      \n",
    "display(cf_test_plot)\n",
    "print(\"Accuracy Test:\",accuracy_score(y_test,y_pred2))\n",
    "print(\"Precision Test:\",precision_score(y_test,y_pred2,average=None))\n",
    "print(\"F1 Test:\", f1_score(y_test,y_pred2,average=None))\n"
   ]
  },
  {
   "cell_type": "markdown",
   "metadata": {},
   "source": [
    "### Save Model / Results"
   ]
  },
  {
   "cell_type": "code",
   "execution_count": 5,
   "metadata": {},
   "outputs": [
    {
     "name": "stdout",
     "output_type": "stream",
     "text": [
      "C:\\Users\\alexa\\Documents\\GitHub\\traffic-accident-weather-analysis\\code\\module2_data\\GA\\DecisionTrees\n"
     ]
    }
   ],
   "source": [
    "save_dir = current_dir + '\\\\module2_data\\\\' + state + '\\\\DecisionTrees'\n",
    "print(save_dir)\n",
    "if not os.path.exists(save_dir):\n",
    "    os.makedirs(save_dir)"
   ]
  },
  {
   "cell_type": "code",
   "execution_count": null,
   "metadata": {},
   "outputs": [],
   "source": []
  }
 ],
 "metadata": {
  "kernelspec": {
   "display_name": "Python 3",
   "language": "python",
   "name": "python3"
  },
  "language_info": {
   "codemirror_mode": {
    "name": "ipython",
    "version": 3
   },
   "file_extension": ".py",
   "mimetype": "text/x-python",
   "name": "python",
   "nbconvert_exporter": "python",
   "pygments_lexer": "ipython3",
   "version": "3.7.4"
  }
 },
 "nbformat": 4,
 "nbformat_minor": 2
}
