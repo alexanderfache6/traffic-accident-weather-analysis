{
 "cells": [
  {
   "cell_type": "markdown",
   "metadata": {},
   "source": [
    "# Module 2 - Supervised Learning - Decision Trees"
   ]
  },
  {
   "cell_type": "markdown",
   "metadata": {},
   "source": [
    "---\n",
    "\n",
    "## Imports"
   ]
  },
  {
   "cell_type": "code",
   "execution_count": 1,
   "metadata": {},
   "outputs": [],
   "source": [
    "import matplotlib.pyplot as plt\n",
    "import numpy as np\n",
    "import os\n",
    "import pandas as pd\n",
    "import seaborn as sb\n",
    "from sklearn.model_selection import train_test_split\n",
    "from sklearn.experimental import enable_hist_gradient_boosting\n",
    "from sklearn.ensemble import HistGradientBoostingClassifier\n",
    "from sklearn.ensemble import GradientBoostingClassifier\n",
    "from sklearn.model_selection import GridSearchCV\n",
    "from sklearn.metrics import confusion_matrix\n",
    "from sklearn.metrics import accuracy_score, precision_score, f1_score\n",
    "import time\n",
    "\n",
    "%matplotlib inline"
   ]
  },
  {
   "cell_type": "markdown",
   "metadata": {},
   "source": [
    "---\n",
    "\n",
    "## Load Data"
   ]
  },
  {
   "cell_type": "code",
   "execution_count": 2,
   "metadata": {},
   "outputs": [
    {
     "name": "stdout",
     "output_type": "stream",
     "text": [
      "(83620, 49)\n",
      "(83620, 1)\n"
     ]
    }
   ],
   "source": [
    "state = 'GA'\n",
    "\n",
    "current_dir = os.getcwd()\n",
    "load_dir = current_dir + '/module1_data/' + state\n",
    "\n",
    "#uncomment 1\n",
    "# data = 'Xstate_f194.npy' #original\n",
    "# data = 'Xforest_f102.npy' #random forest feature importance\n",
    "data = 'Xpca_f194_c049_v9713.npy' #principal components\n",
    "\n",
    "X = np.load(load_dir + '/' + data)\n",
    "print(X.shape)\n",
    "\n",
    "y = np.load(load_dir + '/ystate.npy')\n",
    "y = y - 1\n",
    "print(y.shape)"
   ]
  },
  {
   "cell_type": "code",
   "execution_count": 3,
   "metadata": {},
   "outputs": [
    {
     "name": "stdout",
     "output_type": "stream",
     "text": [
      "X train: (58533, 49)\n",
      "y train: (58533, 1)\n",
      "X test:  (25086, 49)\n",
      "y test:  (25086, 1)\n"
     ]
    }
   ],
   "source": [
    "#DO NOT CHANGE\n",
    "\n",
    "#split into training and test sets\n",
    "\n",
    "X_train, X_test, y_train, y_test = train_test_split(X, y, test_size=0.30, train_size=0.70, random_state=0, shuffle=True)\n",
    "\n",
    "print('X train:', X_train.shape)\n",
    "print('y train:', y_train.shape)\n",
    "print('X test: ', X_test.shape)\n",
    "print('y test: ', y_test.shape)"
   ]
  },
  {
   "cell_type": "markdown",
   "metadata": {},
   "source": [
    "---\n",
    "\n",
    "## Decision Trees"
   ]
  },
  {
   "cell_type": "markdown",
   "metadata": {},
   "source": [
    "### Setup (Single Example)"
   ]
  },
  {
   "cell_type": "code",
   "execution_count": 4,
   "metadata": {},
   "outputs": [],
   "source": [
    "#Setup Classifier, with parameters\n",
    "histClassifier = HistGradientBoostingClassifier(loss='categorical_crossentropy',min_samples_leaf=50,max_depth=8,learning_rate=0.1,max_iter=100)\n",
    "gbdt = histClassifier.fit(X_train, np.ravel(y_train))"
   ]
  },
  {
   "cell_type": "markdown",
   "metadata": {},
   "source": [
    "### Test Set"
   ]
  },
  {
   "cell_type": "code",
   "execution_count": 9,
   "metadata": {},
   "outputs": [
    {
     "data": {
      "text/html": [
       "<style  type=\"text/css\" >\n",
       "    #T_892ba38e_819c_11ea_8319_acbc3299ac9brow0_col0 {\n",
       "            background-color:  #0000ff;\n",
       "            color:  #f1f1f1;\n",
       "        }    #T_892ba38e_819c_11ea_8319_acbc3299ac9brow0_col1 {\n",
       "            background-color:  #e5e5ff;\n",
       "            color:  #000000;\n",
       "        }    #T_892ba38e_819c_11ea_8319_acbc3299ac9brow0_col2 {\n",
       "            background-color:  #e5e5ff;\n",
       "            color:  #000000;\n",
       "        }    #T_892ba38e_819c_11ea_8319_acbc3299ac9brow0_col3 {\n",
       "            background-color:  #e5e5ff;\n",
       "            color:  #000000;\n",
       "        }    #T_892ba38e_819c_11ea_8319_acbc3299ac9brow1_col0 {\n",
       "            background-color:  #e5e5ff;\n",
       "            color:  #000000;\n",
       "        }    #T_892ba38e_819c_11ea_8319_acbc3299ac9brow1_col1 {\n",
       "            background-color:  #0000ff;\n",
       "            color:  #f1f1f1;\n",
       "        }    #T_892ba38e_819c_11ea_8319_acbc3299ac9brow1_col2 {\n",
       "            background-color:  #9797ff;\n",
       "            color:  #000000;\n",
       "        }    #T_892ba38e_819c_11ea_8319_acbc3299ac9brow1_col3 {\n",
       "            background-color:  #ddddff;\n",
       "            color:  #000000;\n",
       "        }    #T_892ba38e_819c_11ea_8319_acbc3299ac9brow2_col0 {\n",
       "            background-color:  #e5e5ff;\n",
       "            color:  #000000;\n",
       "        }    #T_892ba38e_819c_11ea_8319_acbc3299ac9brow2_col1 {\n",
       "            background-color:  #a4a4ff;\n",
       "            color:  #000000;\n",
       "        }    #T_892ba38e_819c_11ea_8319_acbc3299ac9brow2_col2 {\n",
       "            background-color:  #0000ff;\n",
       "            color:  #f1f1f1;\n",
       "        }    #T_892ba38e_819c_11ea_8319_acbc3299ac9brow2_col3 {\n",
       "            background-color:  #dadaff;\n",
       "            color:  #000000;\n",
       "        }    #T_892ba38e_819c_11ea_8319_acbc3299ac9brow3_col0 {\n",
       "            background-color:  #e5e5ff;\n",
       "            color:  #000000;\n",
       "        }    #T_892ba38e_819c_11ea_8319_acbc3299ac9brow3_col1 {\n",
       "            background-color:  #d0d0ff;\n",
       "            color:  #000000;\n",
       "        }    #T_892ba38e_819c_11ea_8319_acbc3299ac9brow3_col2 {\n",
       "            background-color:  #dedeff;\n",
       "            color:  #000000;\n",
       "        }    #T_892ba38e_819c_11ea_8319_acbc3299ac9brow3_col3 {\n",
       "            background-color:  #0000ff;\n",
       "            color:  #f1f1f1;\n",
       "        }</style><table id=\"T_892ba38e_819c_11ea_8319_acbc3299ac9b\" ><thead>    <tr>        <th class=\"blank level0\" ></th>        <th class=\"col_heading level0 col0\" >0</th>        <th class=\"col_heading level0 col1\" >1</th>        <th class=\"col_heading level0 col2\" >2</th>        <th class=\"col_heading level0 col3\" >3</th>    </tr></thead><tbody>\n",
       "                <tr>\n",
       "                        <th id=\"T_892ba38e_819c_11ea_8319_acbc3299ac9blevel0_row0\" class=\"row_heading level0 row0\" >0</th>\n",
       "                        <td id=\"T_892ba38e_819c_11ea_8319_acbc3299ac9brow0_col0\" class=\"data row0 col0\" >18</td>\n",
       "                        <td id=\"T_892ba38e_819c_11ea_8319_acbc3299ac9brow0_col1\" class=\"data row0 col1\" >0</td>\n",
       "                        <td id=\"T_892ba38e_819c_11ea_8319_acbc3299ac9brow0_col2\" class=\"data row0 col2\" >0</td>\n",
       "                        <td id=\"T_892ba38e_819c_11ea_8319_acbc3299ac9brow0_col3\" class=\"data row0 col3\" >0</td>\n",
       "            </tr>\n",
       "            <tr>\n",
       "                        <th id=\"T_892ba38e_819c_11ea_8319_acbc3299ac9blevel0_row1\" class=\"row_heading level0 row1\" >1</th>\n",
       "                        <td id=\"T_892ba38e_819c_11ea_8319_acbc3299ac9brow1_col0\" class=\"data row1 col0\" >0</td>\n",
       "                        <td id=\"T_892ba38e_819c_11ea_8319_acbc3299ac9brow1_col1\" class=\"data row1 col1\" >15478</td>\n",
       "                        <td id=\"T_892ba38e_819c_11ea_8319_acbc3299ac9brow1_col2\" class=\"data row1 col2\" >8640</td>\n",
       "                        <td id=\"T_892ba38e_819c_11ea_8319_acbc3299ac9brow1_col3\" class=\"data row1 col3\" >86</td>\n",
       "            </tr>\n",
       "            <tr>\n",
       "                        <th id=\"T_892ba38e_819c_11ea_8319_acbc3299ac9blevel0_row2\" class=\"row_heading level0 row2\" >2</th>\n",
       "                        <td id=\"T_892ba38e_819c_11ea_8319_acbc3299ac9brow2_col0\" class=\"data row2 col0\" >0</td>\n",
       "                        <td id=\"T_892ba38e_819c_11ea_8319_acbc3299ac9brow2_col1\" class=\"data row2 col1\" >4456</td>\n",
       "                        <td id=\"T_892ba38e_819c_11ea_8319_acbc3299ac9brow2_col2\" class=\"data row2 col2\" >25149</td>\n",
       "                        <td id=\"T_892ba38e_819c_11ea_8319_acbc3299ac9brow2_col3\" class=\"data row2 col3\" >118</td>\n",
       "            </tr>\n",
       "            <tr>\n",
       "                        <th id=\"T_892ba38e_819c_11ea_8319_acbc3299ac9blevel0_row3\" class=\"row_heading level0 row3\" >3</th>\n",
       "                        <td id=\"T_892ba38e_819c_11ea_8319_acbc3299ac9brow3_col0\" class=\"data row3 col0\" >0</td>\n",
       "                        <td id=\"T_892ba38e_819c_11ea_8319_acbc3299ac9brow3_col1\" class=\"data row3 col1\" >1482</td>\n",
       "                        <td id=\"T_892ba38e_819c_11ea_8319_acbc3299ac9brow3_col2\" class=\"data row3 col2\" >852</td>\n",
       "                        <td id=\"T_892ba38e_819c_11ea_8319_acbc3299ac9brow3_col3\" class=\"data row3 col3\" >2254</td>\n",
       "            </tr>\n",
       "    </tbody></table>"
      ],
      "text/plain": [
       "<pandas.io.formats.style.Styler at 0x1a34603490>"
      ]
     },
     "metadata": {},
     "output_type": "display_data"
    },
    {
     "name": "stdout",
     "output_type": "stream",
     "text": [
      "Accuracy Train: 0.7329028069635932\n",
      "Precision Train: [1.         0.72273067 0.72598943 0.9170057 ]\n",
      "F1 Train: [1.         0.67856203 0.78146169 0.63979563]\n"
     ]
    },
    {
     "data": {
      "text/html": [
       "<style  type=\"text/css\" >\n",
       "    #T_893b8556_819c_11ea_8319_acbc3299ac9brow0_col0 {\n",
       "            background-color:  #e5ffe5;\n",
       "            color:  #000000;\n",
       "        }    #T_893b8556_819c_11ea_8319_acbc3299ac9brow0_col1 {\n",
       "            background-color:  #e5ffe5;\n",
       "            color:  #000000;\n",
       "        }    #T_893b8556_819c_11ea_8319_acbc3299ac9brow0_col2 {\n",
       "            background-color:  #e5ffe5;\n",
       "            color:  #000000;\n",
       "        }    #T_893b8556_819c_11ea_8319_acbc3299ac9brow0_col3 {\n",
       "            background-color:  #e5ffe5;\n",
       "            color:  #000000;\n",
       "        }    #T_893b8556_819c_11ea_8319_acbc3299ac9brow1_col0 {\n",
       "            background-color:  #e5ffe5;\n",
       "            color:  #000000;\n",
       "        }    #T_893b8556_819c_11ea_8319_acbc3299ac9brow1_col1 {\n",
       "            background-color:  #008000;\n",
       "            color:  #f1f1f1;\n",
       "        }    #T_893b8556_819c_11ea_8319_acbc3299ac9brow1_col2 {\n",
       "            background-color:  #58b158;\n",
       "            color:  #000000;\n",
       "        }    #T_893b8556_819c_11ea_8319_acbc3299ac9brow1_col3 {\n",
       "            background-color:  #2b982b;\n",
       "            color:  #000000;\n",
       "        }    #T_893b8556_819c_11ea_8319_acbc3299ac9brow2_col0 {\n",
       "            background-color:  #e5ffe5;\n",
       "            color:  #000000;\n",
       "        }    #T_893b8556_819c_11ea_8319_acbc3299ac9brow2_col1 {\n",
       "            background-color:  #3aa03a;\n",
       "            color:  #000000;\n",
       "        }    #T_893b8556_819c_11ea_8319_acbc3299ac9brow2_col2 {\n",
       "            background-color:  #008000;\n",
       "            color:  #f1f1f1;\n",
       "        }    #T_893b8556_819c_11ea_8319_acbc3299ac9brow2_col3 {\n",
       "            background-color:  #319b31;\n",
       "            color:  #000000;\n",
       "        }    #T_893b8556_819c_11ea_8319_acbc3299ac9brow3_col0 {\n",
       "            background-color:  #e5ffe5;\n",
       "            color:  #000000;\n",
       "        }    #T_893b8556_819c_11ea_8319_acbc3299ac9brow3_col1 {\n",
       "            background-color:  #b0e2b0;\n",
       "            color:  #000000;\n",
       "        }    #T_893b8556_819c_11ea_8319_acbc3299ac9brow3_col2 {\n",
       "            background-color:  #d5f6d5;\n",
       "            color:  #000000;\n",
       "        }    #T_893b8556_819c_11ea_8319_acbc3299ac9brow3_col3 {\n",
       "            background-color:  #008000;\n",
       "            color:  #f1f1f1;\n",
       "        }</style><table id=\"T_893b8556_819c_11ea_8319_acbc3299ac9b\" ><thead>    <tr>        <th class=\"blank level0\" ></th>        <th class=\"col_heading level0 col0\" >0</th>        <th class=\"col_heading level0 col1\" >1</th>        <th class=\"col_heading level0 col2\" >2</th>        <th class=\"col_heading level0 col3\" >3</th>    </tr></thead><tbody>\n",
       "                <tr>\n",
       "                        <th id=\"T_893b8556_819c_11ea_8319_acbc3299ac9blevel0_row0\" class=\"row_heading level0 row0\" >0</th>\n",
       "                        <td id=\"T_893b8556_819c_11ea_8319_acbc3299ac9brow0_col0\" class=\"data row0 col0\" >0</td>\n",
       "                        <td id=\"T_893b8556_819c_11ea_8319_acbc3299ac9brow0_col1\" class=\"data row0 col1\" >2</td>\n",
       "                        <td id=\"T_893b8556_819c_11ea_8319_acbc3299ac9brow0_col2\" class=\"data row0 col2\" >7</td>\n",
       "                        <td id=\"T_893b8556_819c_11ea_8319_acbc3299ac9brow0_col3\" class=\"data row0 col3\" >0</td>\n",
       "            </tr>\n",
       "            <tr>\n",
       "                        <th id=\"T_893b8556_819c_11ea_8319_acbc3299ac9blevel0_row1\" class=\"row_heading level0 row1\" >1</th>\n",
       "                        <td id=\"T_893b8556_819c_11ea_8319_acbc3299ac9brow1_col0\" class=\"data row1 col0\" >0</td>\n",
       "                        <td id=\"T_893b8556_819c_11ea_8319_acbc3299ac9brow1_col1\" class=\"data row1 col1\" >4644</td>\n",
       "                        <td id=\"T_893b8556_819c_11ea_8319_acbc3299ac9brow1_col2\" class=\"data row1 col2\" >5532</td>\n",
       "                        <td id=\"T_893b8556_819c_11ea_8319_acbc3299ac9brow1_col3\" class=\"data row1 col3\" >225</td>\n",
       "            </tr>\n",
       "            <tr>\n",
       "                        <th id=\"T_893b8556_819c_11ea_8319_acbc3299ac9blevel0_row2\" class=\"row_heading level0 row2\" >2</th>\n",
       "                        <td id=\"T_893b8556_819c_11ea_8319_acbc3299ac9brow2_col0\" class=\"data row2 col0\" >0</td>\n",
       "                        <td id=\"T_893b8556_819c_11ea_8319_acbc3299ac9brow2_col1\" class=\"data row2 col1\" >3459</td>\n",
       "                        <td id=\"T_893b8556_819c_11ea_8319_acbc3299ac9brow2_col2\" class=\"data row2 col2\" >8992</td>\n",
       "                        <td id=\"T_893b8556_819c_11ea_8319_acbc3299ac9brow2_col3\" class=\"data row2 col3\" >218</td>\n",
       "            </tr>\n",
       "            <tr>\n",
       "                        <th id=\"T_893b8556_819c_11ea_8319_acbc3299ac9blevel0_row3\" class=\"row_heading level0 row3\" >3</th>\n",
       "                        <td id=\"T_893b8556_819c_11ea_8319_acbc3299ac9brow3_col0\" class=\"data row3 col0\" >0</td>\n",
       "                        <td id=\"T_893b8556_819c_11ea_8319_acbc3299ac9brow3_col1\" class=\"data row3 col1\" >1072</td>\n",
       "                        <td id=\"T_893b8556_819c_11ea_8319_acbc3299ac9brow3_col2\" class=\"data row3 col2\" >657</td>\n",
       "                        <td id=\"T_893b8556_819c_11ea_8319_acbc3299ac9brow3_col3\" class=\"data row3 col3\" >278</td>\n",
       "            </tr>\n",
       "    </tbody></table>"
      ],
      "text/plain": [
       "<pandas.io.formats.style.Styler at 0x1a37d54950>"
      ]
     },
     "metadata": {},
     "output_type": "display_data"
    },
    {
     "name": "stdout",
     "output_type": "stream",
     "text": [
      "Accuracy Test: 0.5546519971298732\n",
      "Precision Test: [0.         0.50604773 0.59204635 0.38557559]\n",
      "F1 Test: [0.         0.47441005 0.6455828  0.20381232]\n"
     ]
    },
    {
     "name": "stderr",
     "output_type": "stream",
     "text": [
      "/opt/anaconda3/lib/python3.7/site-packages/sklearn/metrics/classification.py:1437: UndefinedMetricWarning: Precision is ill-defined and being set to 0.0 in labels with no predicted samples.\n",
      "  'precision', 'predicted', average, warn_for)\n",
      "/opt/anaconda3/lib/python3.7/site-packages/sklearn/metrics/classification.py:1437: UndefinedMetricWarning: F-score is ill-defined and being set to 0.0 in labels with no predicted samples.\n",
      "  'precision', 'predicted', average, warn_for)\n"
     ]
    },
    {
     "data": {
      "text/plain": [
       "<Figure size 432x288 with 0 Axes>"
      ]
     },
     "metadata": {},
     "output_type": "display_data"
    }
   ],
   "source": [
    "#confusion matrices:\n",
    "\n",
    "#train data\n",
    "y_pred1 = gbdt.predict(X_train)\n",
    "\n",
    "#test data\n",
    "y_pred2 = gbdt.predict(X_test)\n",
    "\n",
    "cf_train = confusion_matrix(y_train,y_pred1)\n",
    "cf_test = confusion_matrix(y_test,y_pred2)\n",
    "\n",
    "cm1 = sb.light_palette(\"blue\", as_cmap=True)\n",
    "cm2 = sb.light_palette(\"green\", as_cmap=True)\n",
    "cf_train_plot = pd.DataFrame(cf_train)\n",
    "cf_test_plot = pd.DataFrame(cf_test)\n",
    "\n",
    "cf_train_plot = cf_train_plot.style.background_gradient(cmap=cm1)\n",
    "cf_test_plot = cf_test_plot.style.background_gradient(cmap=cm2)\n",
    "\n",
    "display(cf_train_plot)\n",
    "plt.savefig('cf_train_plot.png')\n",
    "print(\"Accuracy Train:\",accuracy_score(y_train,y_pred1))\n",
    "print(\"Precision Train:\",precision_score(y_train,y_pred1,average=None))\n",
    "print(\"F1 Train:\", f1_score(y_train,y_pred1,average=None))\n",
    "      \n",
    "display(cf_test_plot)\n",
    "plt.savefig('cf_test_plot.png')\n",
    "print(\"Accuracy Test:\",accuracy_score(y_test,y_pred2))\n",
    "print(\"Precision Test:\",precision_score(y_test,y_pred2,average=None))\n",
    "print(\"F1 Test:\", f1_score(y_test,y_pred2,average=None))\n"
   ]
  },
  {
   "cell_type": "markdown",
   "metadata": {},
   "source": [
    "### Hyperparameter optimization/GridSearch"
   ]
  },
  {
   "cell_type": "code",
   "execution_count": 6,
   "metadata": {},
   "outputs": [
    {
     "name": "stderr",
     "output_type": "stream",
     "text": [
      "/opt/anaconda3/lib/python3.7/site-packages/sklearn/model_selection/_split.py:1978: FutureWarning: The default value of cv will change from 3 to 5 in version 0.22. Specify it explicitly to silence this warning.\n",
      "  warnings.warn(CV_WARNING, FutureWarning)\n"
     ]
    }
   ],
   "source": [
    "params = {'min_samples_leaf':[30, 50, 100],'max_depth':[5,6,7,8],\n",
    "              'learning_rate':[0.05,0.1,0.15,0.2],'max_iter':[100,500,1000]}\n",
    "\n",
    "search = GridSearchCV(histClassifier, params)\n",
    "gridsearch = search.fit(X_train,np.ravel(y_train))\n",
    "\n",
    "\n",
    "#train data\n",
    "search_pred1 = gridsearch.predict(X_train)\n",
    "\n",
    "#test data\n",
    "search_pred2 = gridsearch.predict(X_test)"
   ]
  },
  {
   "cell_type": "code",
   "execution_count": 10,
   "metadata": {},
   "outputs": [
    {
     "name": "stdout",
     "output_type": "stream",
     "text": [
      "Best Parameters: {'learning_rate': 0.05, 'max_depth': 5, 'max_iter': 100, 'min_samples_leaf': 100}\n"
     ]
    },
    {
     "data": {
      "text/html": [
       "<style  type=\"text/css\" >\n",
       "    #T_8bd333c2_819c_11ea_8319_acbc3299ac9brow0_col0 {\n",
       "            background-color:  #0000ff;\n",
       "            color:  #f1f1f1;\n",
       "        }    #T_8bd333c2_819c_11ea_8319_acbc3299ac9brow0_col1 {\n",
       "            background-color:  #e5e5ff;\n",
       "            color:  #000000;\n",
       "        }    #T_8bd333c2_819c_11ea_8319_acbc3299ac9brow0_col2 {\n",
       "            background-color:  #e5e5ff;\n",
       "            color:  #000000;\n",
       "        }    #T_8bd333c2_819c_11ea_8319_acbc3299ac9brow0_col3 {\n",
       "            background-color:  #e5e5ff;\n",
       "            color:  #000000;\n",
       "        }    #T_8bd333c2_819c_11ea_8319_acbc3299ac9brow1_col0 {\n",
       "            background-color:  #e5e5ff;\n",
       "            color:  #000000;\n",
       "        }    #T_8bd333c2_819c_11ea_8319_acbc3299ac9brow1_col1 {\n",
       "            background-color:  #0000ff;\n",
       "            color:  #f1f1f1;\n",
       "        }    #T_8bd333c2_819c_11ea_8319_acbc3299ac9brow1_col2 {\n",
       "            background-color:  #6969ff;\n",
       "            color:  #000000;\n",
       "        }    #T_8bd333c2_819c_11ea_8319_acbc3299ac9brow1_col3 {\n",
       "            background-color:  #b7b7ff;\n",
       "            color:  #000000;\n",
       "        }    #T_8bd333c2_819c_11ea_8319_acbc3299ac9brow2_col0 {\n",
       "            background-color:  #e5e5ff;\n",
       "            color:  #000000;\n",
       "        }    #T_8bd333c2_819c_11ea_8319_acbc3299ac9brow2_col1 {\n",
       "            background-color:  #6a6aff;\n",
       "            color:  #000000;\n",
       "        }    #T_8bd333c2_819c_11ea_8319_acbc3299ac9brow2_col2 {\n",
       "            background-color:  #0000ff;\n",
       "            color:  #f1f1f1;\n",
       "        }    #T_8bd333c2_819c_11ea_8319_acbc3299ac9brow2_col3 {\n",
       "            background-color:  #adadff;\n",
       "            color:  #000000;\n",
       "        }    #T_8bd333c2_819c_11ea_8319_acbc3299ac9brow3_col0 {\n",
       "            background-color:  #e5e5ff;\n",
       "            color:  #000000;\n",
       "        }    #T_8bd333c2_819c_11ea_8319_acbc3299ac9brow3_col1 {\n",
       "            background-color:  #b2b2ff;\n",
       "            color:  #000000;\n",
       "        }    #T_8bd333c2_819c_11ea_8319_acbc3299ac9brow3_col2 {\n",
       "            background-color:  #d9d9ff;\n",
       "            color:  #000000;\n",
       "        }    #T_8bd333c2_819c_11ea_8319_acbc3299ac9brow3_col3 {\n",
       "            background-color:  #0000ff;\n",
       "            color:  #f1f1f1;\n",
       "        }</style><table id=\"T_8bd333c2_819c_11ea_8319_acbc3299ac9b\" ><thead>    <tr>        <th class=\"blank level0\" ></th>        <th class=\"col_heading level0 col0\" >0</th>        <th class=\"col_heading level0 col1\" >1</th>        <th class=\"col_heading level0 col2\" >2</th>        <th class=\"col_heading level0 col3\" >3</th>    </tr></thead><tbody>\n",
       "                <tr>\n",
       "                        <th id=\"T_8bd333c2_819c_11ea_8319_acbc3299ac9blevel0_row0\" class=\"row_heading level0 row0\" >0</th>\n",
       "                        <td id=\"T_8bd333c2_819c_11ea_8319_acbc3299ac9brow0_col0\" class=\"data row0 col0\" >18</td>\n",
       "                        <td id=\"T_8bd333c2_819c_11ea_8319_acbc3299ac9brow0_col1\" class=\"data row0 col1\" >0</td>\n",
       "                        <td id=\"T_8bd333c2_819c_11ea_8319_acbc3299ac9brow0_col2\" class=\"data row0 col2\" >0</td>\n",
       "                        <td id=\"T_8bd333c2_819c_11ea_8319_acbc3299ac9brow0_col3\" class=\"data row0 col3\" >0</td>\n",
       "            </tr>\n",
       "            <tr>\n",
       "                        <th id=\"T_8bd333c2_819c_11ea_8319_acbc3299ac9blevel0_row1\" class=\"row_heading level0 row1\" >1</th>\n",
       "                        <td id=\"T_8bd333c2_819c_11ea_8319_acbc3299ac9brow1_col0\" class=\"data row1 col0\" >0</td>\n",
       "                        <td id=\"T_8bd333c2_819c_11ea_8319_acbc3299ac9brow1_col1\" class=\"data row1 col1\" >11348</td>\n",
       "                        <td id=\"T_8bd333c2_819c_11ea_8319_acbc3299ac9brow1_col2\" class=\"data row1 col2\" >12708</td>\n",
       "                        <td id=\"T_8bd333c2_819c_11ea_8319_acbc3299ac9brow1_col3\" class=\"data row1 col3\" >148</td>\n",
       "            </tr>\n",
       "            <tr>\n",
       "                        <th id=\"T_8bd333c2_819c_11ea_8319_acbc3299ac9blevel0_row2\" class=\"row_heading level0 row2\" >2</th>\n",
       "                        <td id=\"T_8bd333c2_819c_11ea_8319_acbc3299ac9brow2_col0\" class=\"data row2 col0\" >0</td>\n",
       "                        <td id=\"T_8bd333c2_819c_11ea_8319_acbc3299ac9brow2_col1\" class=\"data row2 col1\" >6085</td>\n",
       "                        <td id=\"T_8bd333c2_819c_11ea_8319_acbc3299ac9brow2_col2\" class=\"data row2 col2\" >23461</td>\n",
       "                        <td id=\"T_8bd333c2_819c_11ea_8319_acbc3299ac9brow2_col3\" class=\"data row2 col3\" >177</td>\n",
       "            </tr>\n",
       "            <tr>\n",
       "                        <th id=\"T_8bd333c2_819c_11ea_8319_acbc3299ac9blevel0_row3\" class=\"row_heading level0 row3\" >3</th>\n",
       "                        <td id=\"T_8bd333c2_819c_11ea_8319_acbc3299ac9brow3_col0\" class=\"data row3 col0\" >0</td>\n",
       "                        <td id=\"T_8bd333c2_819c_11ea_8319_acbc3299ac9brow3_col1\" class=\"data row3 col1\" >2529</td>\n",
       "                        <td id=\"T_8bd333c2_819c_11ea_8319_acbc3299ac9brow3_col2\" class=\"data row3 col2\" >1340</td>\n",
       "                        <td id=\"T_8bd333c2_819c_11ea_8319_acbc3299ac9brow3_col3\" class=\"data row3 col3\" >719</td>\n",
       "            </tr>\n",
       "    </tbody></table>"
      ],
      "text/plain": [
       "<pandas.io.formats.style.Styler at 0x10b61bf50>"
      ]
     },
     "metadata": {},
     "output_type": "display_data"
    },
    {
     "name": "stdout",
     "output_type": "stream",
     "text": [
      "Accuracy Train: 0.607281362650129\n",
      "Precision Train: [1.         0.56848011 0.62547655 0.68869732]\n",
      "F1 Train: [1.         0.51387945 0.69791171 0.2553267 ]\n"
     ]
    },
    {
     "data": {
      "text/html": [
       "<style  type=\"text/css\" >\n",
       "    #T_8bdb2ff0_819c_11ea_8319_acbc3299ac9brow0_col0 {\n",
       "            background-color:  #e5ffe5;\n",
       "            color:  #000000;\n",
       "        }    #T_8bdb2ff0_819c_11ea_8319_acbc3299ac9brow0_col1 {\n",
       "            background-color:  #e5ffe5;\n",
       "            color:  #000000;\n",
       "        }    #T_8bdb2ff0_819c_11ea_8319_acbc3299ac9brow0_col2 {\n",
       "            background-color:  #e5ffe5;\n",
       "            color:  #000000;\n",
       "        }    #T_8bdb2ff0_819c_11ea_8319_acbc3299ac9brow0_col3 {\n",
       "            background-color:  #e5ffe5;\n",
       "            color:  #000000;\n",
       "        }    #T_8bdb2ff0_819c_11ea_8319_acbc3299ac9brow1_col0 {\n",
       "            background-color:  #e5ffe5;\n",
       "            color:  #000000;\n",
       "        }    #T_8bdb2ff0_819c_11ea_8319_acbc3299ac9brow1_col1 {\n",
       "            background-color:  #008000;\n",
       "            color:  #f1f1f1;\n",
       "        }    #T_8bdb2ff0_819c_11ea_8319_acbc3299ac9brow1_col2 {\n",
       "            background-color:  #57b057;\n",
       "            color:  #000000;\n",
       "        }    #T_8bdb2ff0_819c_11ea_8319_acbc3299ac9brow1_col3 {\n",
       "            background-color:  #4daa4d;\n",
       "            color:  #000000;\n",
       "        }    #T_8bdb2ff0_819c_11ea_8319_acbc3299ac9brow2_col0 {\n",
       "            background-color:  #e5ffe5;\n",
       "            color:  #000000;\n",
       "        }    #T_8bdb2ff0_819c_11ea_8319_acbc3299ac9brow2_col1 {\n",
       "            background-color:  #46a746;\n",
       "            color:  #000000;\n",
       "        }    #T_8bdb2ff0_819c_11ea_8319_acbc3299ac9brow2_col2 {\n",
       "            background-color:  #008000;\n",
       "            color:  #f1f1f1;\n",
       "        }    #T_8bdb2ff0_819c_11ea_8319_acbc3299ac9brow2_col3 {\n",
       "            background-color:  #4daa4d;\n",
       "            color:  #000000;\n",
       "        }    #T_8bdb2ff0_819c_11ea_8319_acbc3299ac9brow3_col0 {\n",
       "            background-color:  #e5ffe5;\n",
       "            color:  #000000;\n",
       "        }    #T_8bdb2ff0_819c_11ea_8319_acbc3299ac9brow3_col1 {\n",
       "            background-color:  #a6dca6;\n",
       "            color:  #000000;\n",
       "        }    #T_8bdb2ff0_819c_11ea_8319_acbc3299ac9brow3_col2 {\n",
       "            background-color:  #d7f7d7;\n",
       "            color:  #000000;\n",
       "        }    #T_8bdb2ff0_819c_11ea_8319_acbc3299ac9brow3_col3 {\n",
       "            background-color:  #008000;\n",
       "            color:  #f1f1f1;\n",
       "        }</style><table id=\"T_8bdb2ff0_819c_11ea_8319_acbc3299ac9b\" ><thead>    <tr>        <th class=\"blank level0\" ></th>        <th class=\"col_heading level0 col0\" >0</th>        <th class=\"col_heading level0 col1\" >1</th>        <th class=\"col_heading level0 col2\" >2</th>        <th class=\"col_heading level0 col3\" >3</th>    </tr></thead><tbody>\n",
       "                <tr>\n",
       "                        <th id=\"T_8bdb2ff0_819c_11ea_8319_acbc3299ac9blevel0_row0\" class=\"row_heading level0 row0\" >0</th>\n",
       "                        <td id=\"T_8bdb2ff0_819c_11ea_8319_acbc3299ac9brow0_col0\" class=\"data row0 col0\" >0</td>\n",
       "                        <td id=\"T_8bdb2ff0_819c_11ea_8319_acbc3299ac9brow0_col1\" class=\"data row0 col1\" >2</td>\n",
       "                        <td id=\"T_8bdb2ff0_819c_11ea_8319_acbc3299ac9brow0_col2\" class=\"data row0 col2\" >7</td>\n",
       "                        <td id=\"T_8bdb2ff0_819c_11ea_8319_acbc3299ac9brow0_col3\" class=\"data row0 col3\" >0</td>\n",
       "            </tr>\n",
       "            <tr>\n",
       "                        <th id=\"T_8bdb2ff0_819c_11ea_8319_acbc3299ac9blevel0_row1\" class=\"row_heading level0 row1\" >1</th>\n",
       "                        <td id=\"T_8bdb2ff0_819c_11ea_8319_acbc3299ac9brow1_col0\" class=\"data row1 col0\" >0</td>\n",
       "                        <td id=\"T_8bdb2ff0_819c_11ea_8319_acbc3299ac9brow1_col1\" class=\"data row1 col1\" >4401</td>\n",
       "                        <td id=\"T_8bdb2ff0_819c_11ea_8319_acbc3299ac9brow1_col2\" class=\"data row1 col2\" >5892</td>\n",
       "                        <td id=\"T_8bdb2ff0_819c_11ea_8319_acbc3299ac9brow1_col3\" class=\"data row1 col3\" >108</td>\n",
       "            </tr>\n",
       "            <tr>\n",
       "                        <th id=\"T_8bdb2ff0_819c_11ea_8319_acbc3299ac9blevel0_row2\" class=\"row_heading level0 row2\" >2</th>\n",
       "                        <td id=\"T_8bdb2ff0_819c_11ea_8319_acbc3299ac9brow2_col0\" class=\"data row2 col0\" >0</td>\n",
       "                        <td id=\"T_8bdb2ff0_819c_11ea_8319_acbc3299ac9brow2_col1\" class=\"data row2 col1\" >3055</td>\n",
       "                        <td id=\"T_8bdb2ff0_819c_11ea_8319_acbc3299ac9brow2_col2\" class=\"data row2 col2\" >9506</td>\n",
       "                        <td id=\"T_8bdb2ff0_819c_11ea_8319_acbc3299ac9brow2_col3\" class=\"data row2 col3\" >108</td>\n",
       "            </tr>\n",
       "            <tr>\n",
       "                        <th id=\"T_8bdb2ff0_819c_11ea_8319_acbc3299ac9blevel0_row3\" class=\"row_heading level0 row3\" >3</th>\n",
       "                        <td id=\"T_8bdb2ff0_819c_11ea_8319_acbc3299ac9brow3_col0\" class=\"data row3 col0\" >0</td>\n",
       "                        <td id=\"T_8bdb2ff0_819c_11ea_8319_acbc3299ac9brow3_col1\" class=\"data row3 col1\" >1213</td>\n",
       "                        <td id=\"T_8bdb2ff0_819c_11ea_8319_acbc3299ac9brow3_col2\" class=\"data row3 col2\" >632</td>\n",
       "                        <td id=\"T_8bdb2ff0_819c_11ea_8319_acbc3299ac9brow3_col3\" class=\"data row3 col3\" >162</td>\n",
       "            </tr>\n",
       "    </tbody></table>"
      ],
      "text/plain": [
       "<pandas.io.formats.style.Styler at 0x1a35ca11d0>"
      ]
     },
     "metadata": {},
     "output_type": "display_data"
    },
    {
     "name": "stdout",
     "output_type": "stream",
     "text": [
      "Accuracy Test: 0.5608307422466714\n",
      "Precision Test: [0.         0.50755392 0.59275426 0.42857143]\n",
      "F1 Test: [0.         0.46151426 0.66230056 0.13584906]\n"
     ]
    },
    {
     "data": {
      "text/plain": [
       "<Figure size 432x288 with 0 Axes>"
      ]
     },
     "metadata": {},
     "output_type": "display_data"
    }
   ],
   "source": [
    "bestparams = gridsearch.best_params_\n",
    "print('Best Parameters:',bestparams)\n",
    "\n",
    "cf_train_search = confusion_matrix(y_train,search_pred1)\n",
    "cf_test_search = confusion_matrix(y_test,search_pred2)\n",
    "\n",
    "cm1 = sb.light_palette(\"blue\", as_cmap=True)\n",
    "cm2 = sb.light_palette(\"green\", as_cmap=True)\n",
    "cf_train_plot = pd.DataFrame(cf_train_search)\n",
    "cf_test_plot = pd.DataFrame(cf_test_search)\n",
    "\n",
    "cf_train_plot = cf_train_plot.style.background_gradient(cmap=cm1)\n",
    "cf_test_plot = cf_test_plot.style.background_gradient(cmap=cm2)\n",
    "\n",
    "display(cf_train_plot)\n",
    "plt.savefig('cf_train_plot_search.png')\n",
    "print(\"Accuracy Train:\",accuracy_score(y_train,search_pred1))\n",
    "print(\"Precision Train:\",precision_score(y_train,search_pred1,average=None))\n",
    "print(\"F1 Train:\", f1_score(y_train,search_pred1,average=None))\n",
    "      \n",
    "display(cf_test_plot)\n",
    "plt.savefig('cf_test_plot_search.png')\n",
    "print(\"Accuracy Test:\",accuracy_score(y_test,search_pred2))\n",
    "print(\"Precision Test:\",precision_score(y_test,search_pred2,average=None))\n",
    "print(\"F1 Test:\", f1_score(y_test,search_pred2,average=None))\n"
   ]
  },
  {
   "cell_type": "markdown",
   "metadata": {},
   "source": [
    "### Save Model / Results"
   ]
  },
  {
   "cell_type": "code",
   "execution_count": 5,
   "metadata": {},
   "outputs": [
    {
     "name": "stdout",
     "output_type": "stream",
     "text": [
      "C:\\Users\\alexa\\Documents\\GitHub\\traffic-accident-weather-analysis\\code\\module2_data\\GA\\DecisionTrees\n"
     ]
    }
   ],
   "source": [
    "save_dir = current_dir + '\\\\module2_data\\\\' + state + '\\\\DecisionTrees'\n",
    "print(save_dir)\n",
    "if not os.path.exists(save_dir):\n",
    "    os.makedirs(save_dir)"
   ]
  },
  {
   "cell_type": "markdown",
   "metadata": {},
   "source": []
  },
  {
   "cell_type": "code",
   "execution_count": null,
   "metadata": {},
   "outputs": [],
   "source": []
  }
 ],
 "metadata": {
  "kernelspec": {
   "display_name": "Python 3",
   "language": "python",
   "name": "python3"
  },
  "language_info": {
   "codemirror_mode": {
    "name": "ipython",
    "version": 3
   },
   "file_extension": ".py",
   "mimetype": "text/x-python",
   "name": "python",
   "nbconvert_exporter": "python",
   "pygments_lexer": "ipython3",
   "version": "3.7.4"
  }
 },
 "nbformat": 4,
 "nbformat_minor": 2
}
